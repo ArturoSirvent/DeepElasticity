{
 "cells": [
  {
   "cell_type": "markdown",
   "metadata": {},
   "source": [
    "Los resultados necesarios son:   \n",
    "\n",
    "**Problema Inverso**:  Tenemos que obtener la estimación de los parámetros, sin preocuparnos por nada más.  \n",
    "1º Usando la PINN más básica, hacemos la estimación de varios valores de E, para varios valores de E inicial.     \n",
    "2º Usando el truco de alpha, hacemos la estimación, lo mismo que antes.  \n",
    "3º Usando la formulación mixta esa, hacemos lo mismo con lo anterior (con alpha si habia una diferencia sustancial).    \n",
    "¿4º? Lambde?\n",
    "\n",
    "**Problema Directo:** \n",
    "1º Sin tener que estimar ningún parámetro, sacamos las deformaciones.  \n",
    "2º Sacando los parámetros sacamos las deformaciones y los valores del parámetros. \n",
    "3º Con la formulación mixta. Lo mismo.  \n",
    "\n",
    "Importante solo imponer los tensores de tensiones conocidos alli donde hay fuerzas."
   ]
  },
  {
   "cell_type": "markdown",
   "metadata": {},
   "source": [
    "# 1. PROBLEMA INVERSO SENCILLO "
   ]
  },
  {
   "cell_type": "code",
   "execution_count": null,
   "metadata": {},
   "outputs": [],
   "source": []
  },
  {
   "cell_type": "code",
   "execution_count": null,
   "metadata": {},
   "outputs": [],
   "source": []
  }
 ],
 "metadata": {
  "language_info": {
   "name": "python"
  }
 },
 "nbformat": 4,
 "nbformat_minor": 2
}
