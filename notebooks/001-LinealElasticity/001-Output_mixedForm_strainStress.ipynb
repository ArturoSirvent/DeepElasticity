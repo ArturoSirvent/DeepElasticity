{
 "cells": [
  {
   "cell_type": "markdown",
   "metadata": {},
   "source": [
    "# Outline"
   ]
  },
  {
   "cell_type": "markdown",
   "metadata": {},
   "source": [
    "La idea de esta implementación es aprovechar la información que tenemos de las tensiones, para hacer la estimación de los parámetros. El problema con la eq del equilibrio, es que no involubra lo suficiente a E. Mientras que en las condiciones de contorno, si que estamos introduciendo esa condición.\n",
    "\n",
    "Voy a tomar todos los datos de los que tenemos tensiones (que creo que solo son los de la superficie), y sus esplazamientos y posiciones iniciales, y con ellos, vamos a entrenar una red que tenga de output desplazamiento y tension.   \n",
    "\n",
    "Para este entrenamiento, voy a tener la función de perdida de la data + la función de pérdida de PDE que tendrá dos partes, la de equilibrio, y la de ecuación constitutiva, es decir la epsilon calculada con los desplazamientos x C, y la sigma obtenida por la red, deben coincidir.  \n",
    "\n",
    "Por último, las condiciones de contorno es imponer la invovilidad de los nodos quietos (condiciones de Dirichlet) e imponer las tensiones: ¿**Las tensiones las impongo en la zona donde se aplica la fuerza, o como**?  ¿**Mejor forma de informar a la red de los nodos recibidores de la fuerza**?"
   ]
  },
  {
   "cell_type": "markdown",
   "metadata": {},
   "source": [
    "Vamos a trabajar solo con los puntos de la superficie.   \n",
    "\n",
    "¿**Hay algún motivo por el cual no hay en el interior tensiones**?"
   ]
  },
  {
   "cell_type": "markdown",
   "metadata": {},
   "source": [
    "### Ideas extra  \n",
    "\n",
    "- Que los outputs no sean directamente el valor, que pasen por un escalado, o una función que les impone unas restricciones extra. (paper del contacto) Esto creo que viene por la forma de exprear una eq diferencial en forma residual...\n",
    "Esta es una 'user defined transformation', que nos permite meterle hard constrains. \n",
    "- El tema del escalado segun el valor de E. O el escalado de los outputs para que haya un equilibrio en la función de pérdida.  \n",
    "\n",
    "- El tema del pesado de los términos de la loss. \n"
   ]
  },
  {
   "cell_type": "code",
   "execution_count": null,
   "metadata": {},
   "outputs": [],
   "source": []
  }
 ],
 "metadata": {
  "language_info": {
   "name": "python"
  }
 },
 "nbformat": 4,
 "nbformat_minor": 2
}
