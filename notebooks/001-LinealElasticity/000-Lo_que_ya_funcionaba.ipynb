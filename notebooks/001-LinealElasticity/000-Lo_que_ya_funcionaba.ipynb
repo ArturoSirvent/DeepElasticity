{
 "cells": [
  {
   "cell_type": "markdown",
   "metadata": {},
   "source": [
    "Problema inverso para E, que ya funcionaba para la estimación, pero con los desplazamiento regulin."
   ]
  },
  {
   "cell_type": "code",
   "execution_count": 173,
   "metadata": {},
   "outputs": [],
   "source": [
    "#librerias\n",
    "\n",
    "import torch\n",
    "import torch.autograd as autograd         # computation graph\n",
    "from torch import Tensor                  # tensor node in the computation graph\n",
    "import torch.nn as nn                     # neural networks\n",
    "import torch.optim as optim               # optimizers e.g. gradient descent, ADAM, etc.\n",
    "import pandas as pd\n",
    "import matplotlib.pyplot as plt\n",
    "import numpy as np\n",
    "import time\n",
    "import re \n",
    "import random\n",
    "import json \n",
    "import time\n",
    "import plotly.express as px\n",
    "from dataclasses import dataclass\n",
    "import deepxde as dde\n",
    "\n"
   ]
  },
  {
   "cell_type": "code",
   "execution_count": 288,
   "metadata": {},
   "outputs": [],
   "source": [
    "def keep_line(line):\n",
    "    line_split=line.split()\n",
    "    try:\n",
    "        int(line_split[0])\n",
    "        #si no dio error, okey entra\n",
    "        return True\n",
    "    except:\n",
    "        return False\n",
    "    \n",
    "\n",
    "#vamos a hacer una función para cargar todos los datos de una   \n",
    "@dataclass\n",
    "class Data:\n",
    "    folder: str\n",
    "    load_stage: int\n",
    "    base_dir:str = \"/home/arturo/Documents/programacion_stuff/DeepElasticity/data/001-LinearElasticity\"\n",
    "    E: str = None\n",
    "    initialPosition_data_pd: pd.DataFrame =None\n",
    "    stress_data_pd: pd.DataFrame =None\n",
    "    displacement_data_pd: pd.DataFrame=None\n",
    "    restricted_data_pd: pd.DataFrame =None\n",
    "    force_data_pd: pd.DataFrame =None \n",
    "    final_data_pd: pd.DataFrame =None\n",
    "    collocation_data_np:pd.DataFrame =None\n",
    "    Pos_min: np.ndarray = None\n",
    "    Pos_max: np.ndarray = None\n",
    "\n",
    "    @classmethod\n",
    "    def keep_line(line):\n",
    "        line_split=line.split()\n",
    "        try:\n",
    "            int(line_split[0])\n",
    "            #si no dio error, okey entra\n",
    "            return True\n",
    "        except:\n",
    "            return False\n",
    "\n",
    "    def load_data(self,load_stage=10):\n",
    "        # carga las posiciones de los nodos    \n",
    "        initialPosition_data_path = f\"{self.base_dir}/ARTURO_TEST_1/NODES.txt\"\n",
    "\n",
    "        with open(initialPosition_data_path,\"r\") as f:\n",
    "            aux_list=f.readlines()\n",
    "\n",
    "        initialPosition_data=[i for i in aux_list if keep_line(i)]\n",
    "        initialPosition_data=[i.strip(\"\\n\") for i in initialPosition_data]\n",
    "        initialPosition_data=[i.split() for i in initialPosition_data]\n",
    "        initialPosition_data_np=np.array(initialPosition_data).astype(float)[:,[0,1,2,3]]\n",
    "        self.initialPosition_data_pd=pd.DataFrame(initialPosition_data_np,columns=[\"Node\",\"X\",\"Y\",\"Z\"]).set_index(\"Node\")\n",
    "        self.Pos_min=self.initialPosition_data_pd.min().to_numpy()\n",
    "        self.Pos_max=self.initialPosition_data_pd.max().to_numpy()\n",
    "        #carga el streess\n",
    "        if self.E is not None:\n",
    "            stress_data_path = f\"{self.base_dir}/{self.folder}/PSOL_{load_stage}_NODAL_STRESSES_E{self.E}.txt\"\n",
    "        else: \n",
    "            stress_data_path = f\"{self.base_dir}/{self.folder}/PSOL_{load_stage}_NODAL_STRESSES.txt\"\n",
    "        with open(stress_data_path,\"r\") as f:\n",
    "            aux_list=f.readlines()\n",
    "\n",
    "\n",
    "        stress_data=[i for i in aux_list if keep_line(i)]\n",
    "        stress_data=[i.strip(\"\\n\").strip() for i in stress_data]\n",
    "        patron = \"[-.\\d]+E-*\\d{3}|^\\d{0,4}|0\\.0000\"\n",
    "\n",
    "        stress_data=[re.findall(patron,i) for i in stress_data]\n",
    "        stress_data=np.array(stress_data,dtype=float)\n",
    "        self.stress_data_pd=pd.DataFrame(stress_data,columns=[\"Node\",\"SX\",\"SY\",\"SZ\",\"SXY\",\"SYZ\",\"SXZ\"]).set_index(\"Node\")[[\"SX\",\"SY\",\"SZ\",\"SYZ\",\"SXZ\",\"SXY\"]] # lo queremos asi : s11,s22,s33,s23,s13,s12\n",
    "\n",
    "        # cargar datos de desplazamiento  \n",
    "        if self.E is not None:\n",
    "            displacement_data_path = f\"{self.base_dir}/{self.folder}/PSOL_{load_stage}_NODAL_DISP_E{self.E}.txt\"\n",
    "        else:\n",
    "            displacement_data_path = f\"{self.base_dir}/{self.folder}/PSOL_{load_stage}_NODAL_DISP.txt\"\n",
    "\n",
    "        with open(displacement_data_path,\"r\") as f:\n",
    "            aux_list=f.readlines()\n",
    "\n",
    "\n",
    "        displacement_data=[i for i in aux_list if keep_line(i)]\n",
    "        displacement_data=[i.strip(\"\\n\").strip() for i in displacement_data]\n",
    "        patron = r\"[-.\\d]+E-*\\d{3}|^\\d{0,4}|-?\\d+\\.\\d+|0\\.0000\"\n",
    "\n",
    "        displacement_data=[re.findall(patron,i) for i in displacement_data]\n",
    "        displacement_data=np.array(displacement_data,dtype=float)\n",
    "        self.displacement_data_pd=pd.DataFrame(displacement_data,columns=[\"Node\",\"UX\",\"UY\",\"UZ\",\"USUM\"]).set_index(\"Node\")\n",
    "\n",
    "        # cargar datos de boundaries en el movimiento\n",
    "        #cargar los nodos fijos\n",
    "        with open(f\"{self.base_dir}/ARTURO_TEST_1/RESTRINGED_NODES.txt\",\"r\") as f:\n",
    "            restricted_data=f.readlines()\n",
    "\n",
    "        restricted_data=[i for i in restricted_data if keep_line(i)]\n",
    "        restricted_data=[i.strip(\"\\n\") for i in restricted_data]\n",
    "        restricted_data=[i.split() for i in restricted_data]\n",
    "        restricted_data_np=np.array(restricted_data)[:,[0,1]]\n",
    "        self.restricted_data_pd=pd.DataFrame(restricted_data_np,columns=[\"Node\",\"Direccion\"])\n",
    "        self.restricted_data_pd=self.restricted_data_pd.groupby(\"Node\")[\"Direccion\"].apply(lambda x : list(x)).to_frame().sort_index()\n",
    "        self.restricted_data_pd.index=self.restricted_data_pd.index.astype(int)\n",
    "        self.restricted_data_pd=self.restricted_data_pd.sort_index()\n",
    "        self.restricted_data_pd=self.restricted_data_pd.rename(columns={\"Direccion\":\"Restricciones\"})\n",
    "\n",
    "        with open(f\"{self.base_dir}/ARTURO_TEST_1/FORCE_ON_NODES.txt\",\"r\") as f:\n",
    "            force_data=f.readlines()\n",
    "\n",
    "\n",
    "        force_data=[i for i in force_data if keep_line(i)]\n",
    "        force_data=[i.strip(\"\\n\") for i in force_data]\n",
    "        force_data=[i.split() for i in force_data]\n",
    "        force_data_np=np.array(force_data)[:,[0,1,2]]\n",
    "        self.force_data_pd=pd.DataFrame(force_data_np,columns=[\"Node\",\"Direccion_Fuerza\",\"Fuerza\"])\n",
    "        self.force_data_pd[\"Fuerza\"]=self.force_data_pd[\"Fuerza\"].astype(float)\n",
    "        self.force_data_pd=self.force_data_pd.set_index(\"Node\")\n",
    "        self.force_data_pd.index=self.force_data_pd.index.astype(int)\n",
    "\n",
    "\n",
    "        #ponemos todos los datos en común usando los nodos como clave   \n",
    "        self.final_data_pd=self.initialPosition_data_pd.merge(self.stress_data_pd,left_index=True,right_index=True,how=\"left\").merge(self.force_data_pd,left_index=True,right_index=True,how=\"left\").merge(self.displacement_data_pd,left_index=True,right_index=True,how=\"left\").merge(self.restricted_data_pd,left_index=True,right_index=True,how=\"left\")\n",
    "\n",
    "        self.final_data_pd[\"Final_X\"]=self.final_data_pd[\"X\"]-self.final_data_pd[\"UX\"]\n",
    "        self.final_data_pd[\"Final_Y\"]=self.final_data_pd[\"Y\"]-self.final_data_pd[\"UY\"]\n",
    "        self.final_data_pd[\"Final_Z\"]=self.final_data_pd[\"Z\"]-self.final_data_pd[\"UZ\"]\n",
    "\n",
    "    def create_colloc_points(self,n_colloc=70000,colloc_type=\"random_2\"):\n",
    "\n",
    "        if colloc_type==\"random_1\":\n",
    "\n",
    "            X_coloc = np.random.uniform(self.Pos_min[0], self.Pos_max[0], (n_colloc, 1))\n",
    "            Y_coloc = np.random.uniform(self.Pos_min[1], self.Pos_max[1], (n_colloc, 1))\n",
    "            Z_coloc = np.random.uniform(self.Pos_min[2], self.Pos_max[2], (n_colloc, 1))\n",
    "            self.collocation_data_np = np.array(np.meshgrid(X_coloc, Y_coloc,Z_coloc)).T.reshape(-1, 3)           # Combine the two arrays\n",
    "            \n",
    "\n",
    "        \n",
    "        elif colloc_type==\"random_2\":\n",
    "            #este tipo de random es una distribucion por todo el espacio para cada punto\n",
    "            points=[]\n",
    "            for _ in range(n_colloc):\n",
    "                X_coloc_aux = np.random.uniform(self.Pos_min[0], self.Pos_max[0], 1)\n",
    "                Y_coloc_aux = np.random.uniform(self.Pos_min[1], self.Pos_max[1], 1)\n",
    "                Z_coloc_aux = np.random.uniform(self.Pos_min[2], self.Pos_max[2], 1)\n",
    "                points.append(np.array([X_coloc_aux,Y_coloc_aux,Z_coloc_aux]))\n",
    "\n",
    "            self.collocation_data_np = np.array(points).reshape(-1, 3)\n",
    "\n",
    "\n",
    "    def prepare_pytorch_data(self,n_colloc=70000,colloc_type=\"random_2\",percentage_stress_data=0.8,train_percent=0.8):\n",
    "        #para el entrenamiento necesitamos diferentes conjuntos de datos\n",
    "\n",
    "        # 1. los datos experimentales que saldrán de los datos sin limitaciones de movimiento\n",
    "        # pero no haremos ninguna diferenciación más, los que tengan una fuerza aplicada nos da igual\n",
    "        # lo tomamos también\n",
    "\n",
    "        # 1.1. Otro set de datos que son los que tienen limitaciones totales del movimiento\n",
    "        # 1.2. Otro que será los que tengan limitaciones direccionales del movimiento\n",
    "\n",
    "        # estos dos anteriores, simplemente tienen desplamiento nulo en las direcciones que correspondan\n",
    "        # por eso lo vamos a meter con los datos normales, pero si quisieramos darles mayor importancia\n",
    "        # podríamos tenerlos en un término a parte den la funcion de perdida.   \n",
    "\n",
    "        # 2. Los collocation points, esto son x,y,z repartidas por todo el dominio que nos interese  \n",
    "\n",
    "\n",
    "        # 3. Las BC. Aquí entran las NBC, y en el futuro la DBC de antes. Antes imponíamos solo donde estaba\n",
    "        # aplicada la fuerza, pero esto no tiene porque ser así, es más, estamos muy limitados si así es. Si solo quisiéramos \n",
    "        # darle información de la Fuerza, habría que ver otra manera creo yo. Por ahora, le voy a dar todos o un subconjunto de los \n",
    "        # puntos y valores de sigma en la superficie, para que lo tenga como referencia para aprender la fisica y hacer bien los\n",
    "        # desplazamientos.\n",
    "\n",
    "        # Los datos de test será sacados del conjunto de datos no restringidos de desplazamientos\n",
    "\n",
    "        # El tema de la normalizacion: ----\n",
    "\n",
    "\n",
    "        # colloc points\n",
    "        if self.collocation_data_np is None:\n",
    "            self.create_colloc_points(n_colloc=n_colloc,colloc_type=colloc_type)\n",
    "        return_colloc_points=torch.tensor(self.collocation_data_np,requires_grad=True)\n",
    "\n",
    "        # desp_data, tanto los limitados como el resto  \n",
    "\n",
    "        # no limitados, separamos en 80 y 20\n",
    "        indx_non_restricted=[int(i) for i in self.displacement_data_pd.index if i not in self.restricted_data_pd.index ]\n",
    "        random.shuffle(indx_non_restricted)\n",
    "        indx_train_non_restricted,indx_test_non_restricted = indx_non_restricted[:int(len(indx_non_restricted)//(1/train_percent))], indx_non_restricted[int(len(indx_non_restricted)//(1/train_percent)):]\n",
    "        train_init_pos_non_restricted, train_disp_non_restricted = torch.tensor(self.initialPosition_data_pd.loc[indx_train_non_restricted,[\"X\",\"Y\",\"Z\"]].to_numpy(),requires_grad=True) , torch.tensor(self.displacement_data_pd.loc[indx_train_non_restricted,[\"UX\",\"UY\",\"UZ\"]].to_numpy(),requires_grad=True)\n",
    "        test_init_pos_non_restricted, test_disp_non_restricted = torch.tensor(self.initialPosition_data_pd.loc[indx_test_non_restricted,[\"X\",\"Y\",\"Z\"]].to_numpy(),requires_grad=True) , torch.tensor(self.displacement_data_pd.loc[indx_test_non_restricted,[\"UX\",\"UY\",\"UZ\"]].to_numpy(),requires_grad=True)\n",
    "\n",
    "        # limitados\n",
    "        initpos_restricted_data=torch.tensor(self.initialPosition_data_pd.loc[self.restricted_data_pd.index,[\"X\",\"Y\",\"Z\"]].to_numpy(),requires_grad=True)\n",
    "\n",
    "        disp_restricted_data=torch.tensor(self.displacement_data_pd.loc[self.restricted_data_pd.index,[\"UX\",\"UY\",\"UZ\"]].to_numpy(),requires_grad=True)\n",
    "\n",
    "        train_init_pos_main,train_disp_main=torch.concat([train_init_pos_non_restricted,initpos_restricted_data]),torch.concat([train_disp_non_restricted,disp_restricted_data])\n",
    "        test_init_pos_main,test_disp_main=test_init_pos_non_restricted, test_disp_non_restricted\n",
    "\n",
    "        # data del NCB\n",
    "        # voy a escoder un pocentaje de datos de estos de los que dar.\n",
    "        selected_stresses=self.stress_data_pd.sample(frac=percentage_stress_data,axis=0)\n",
    "        position_selected_stresses=torch.tensor(self.initialPosition_data_pd.loc[selected_stresses.index].to_numpy(),requires_grad=True)\n",
    "        return_stress=torch.tensor(selected_stresses.to_numpy(),requires_grad=True)\n",
    "        # si quisieramos hacer una separacion\n",
    "        #from sklearn... import train_test_split\n",
    "        #train_test_split(self.stress_data_pd.to_numpy())\n",
    "\n",
    "        return train_init_pos_main.float(),train_disp_main.float(),test_init_pos_main.float(),test_disp_main.float(),position_selected_stresses.float(),return_stress.float(),return_colloc_points.float()\n"
   ]
  },
  {
   "cell_type": "code",
   "execution_count": 228,
   "metadata": {},
   "outputs": [],
   "source": [
    "data=Data(\"LINEAR_SMALL_DISP\",10)\n",
    "data.load_data()"
   ]
  },
  {
   "cell_type": "code",
   "execution_count": 229,
   "metadata": {},
   "outputs": [
    {
     "data": {
      "text/html": [
       "<div>\n",
       "<style scoped>\n",
       "    .dataframe tbody tr th:only-of-type {\n",
       "        vertical-align: middle;\n",
       "    }\n",
       "\n",
       "    .dataframe tbody tr th {\n",
       "        vertical-align: top;\n",
       "    }\n",
       "\n",
       "    .dataframe thead th {\n",
       "        text-align: right;\n",
       "    }\n",
       "</style>\n",
       "<table border=\"1\" class=\"dataframe\">\n",
       "  <thead>\n",
       "    <tr style=\"text-align: right;\">\n",
       "      <th></th>\n",
       "      <th>X</th>\n",
       "      <th>Y</th>\n",
       "      <th>Z</th>\n",
       "    </tr>\n",
       "    <tr>\n",
       "      <th>Node</th>\n",
       "      <th></th>\n",
       "      <th></th>\n",
       "      <th></th>\n",
       "    </tr>\n",
       "  </thead>\n",
       "  <tbody>\n",
       "    <tr>\n",
       "      <th>3.0</th>\n",
       "      <td>54.619</td>\n",
       "      <td>26.576</td>\n",
       "      <td>39.528</td>\n",
       "    </tr>\n",
       "    <tr>\n",
       "      <th>7.0</th>\n",
       "      <td>27.021</td>\n",
       "      <td>25.703</td>\n",
       "      <td>49.628</td>\n",
       "    </tr>\n",
       "    <tr>\n",
       "      <th>23.0</th>\n",
       "      <td>27.451</td>\n",
       "      <td>25.543</td>\n",
       "      <td>50.376</td>\n",
       "    </tr>\n",
       "    <tr>\n",
       "      <th>24.0</th>\n",
       "      <td>27.224</td>\n",
       "      <td>26.137</td>\n",
       "      <td>51.136</td>\n",
       "    </tr>\n",
       "    <tr>\n",
       "      <th>25.0</th>\n",
       "      <td>27.881</td>\n",
       "      <td>26.324</td>\n",
       "      <td>52.073</td>\n",
       "    </tr>\n",
       "    <tr>\n",
       "      <th>...</th>\n",
       "      <td>...</td>\n",
       "      <td>...</td>\n",
       "      <td>...</td>\n",
       "    </tr>\n",
       "    <tr>\n",
       "      <th>3263.0</th>\n",
       "      <td>53.808</td>\n",
       "      <td>44.100</td>\n",
       "      <td>29.981</td>\n",
       "    </tr>\n",
       "    <tr>\n",
       "      <th>3264.0</th>\n",
       "      <td>54.269</td>\n",
       "      <td>45.010</td>\n",
       "      <td>26.763</td>\n",
       "    </tr>\n",
       "    <tr>\n",
       "      <th>3290.0</th>\n",
       "      <td>54.929</td>\n",
       "      <td>45.575</td>\n",
       "      <td>33.111</td>\n",
       "    </tr>\n",
       "    <tr>\n",
       "      <th>3546.0</th>\n",
       "      <td>25.877</td>\n",
       "      <td>45.572</td>\n",
       "      <td>26.559</td>\n",
       "    </tr>\n",
       "    <tr>\n",
       "      <th>3548.0</th>\n",
       "      <td>35.891</td>\n",
       "      <td>26.470</td>\n",
       "      <td>50.961</td>\n",
       "    </tr>\n",
       "  </tbody>\n",
       "</table>\n",
       "<p>658 rows × 3 columns</p>\n",
       "</div>"
      ],
      "text/plain": [
       "             X       Y       Z\n",
       "Node                          \n",
       "3.0     54.619  26.576  39.528\n",
       "7.0     27.021  25.703  49.628\n",
       "23.0    27.451  25.543  50.376\n",
       "24.0    27.224  26.137  51.136\n",
       "25.0    27.881  26.324  52.073\n",
       "...        ...     ...     ...\n",
       "3263.0  53.808  44.100  29.981\n",
       "3264.0  54.269  45.010  26.763\n",
       "3290.0  54.929  45.575  33.111\n",
       "3546.0  25.877  45.572  26.559\n",
       "3548.0  35.891  26.470  50.961\n",
       "\n",
       "[658 rows x 3 columns]"
      ]
     },
     "execution_count": 229,
     "metadata": {},
     "output_type": "execute_result"
    }
   ],
   "source": [
    "data.initialPosition_data_pd.loc[data.restricted_data_pd.index,[\"X\",\"Y\",\"Z\"]]\n"
   ]
  },
  {
   "cell_type": "code",
   "execution_count": 230,
   "metadata": {},
   "outputs": [],
   "source": [
    "train_init_pos_main,train_disp_main,test_init_pos_main,test_disp_main,position_selected_stresses,return_stress,return_colloc_points=data.prepare_pytorch_data()"
   ]
  },
  {
   "cell_type": "code",
   "execution_count": 232,
   "metadata": {},
   "outputs": [
    {
     "name": "stdout",
     "output_type": "stream",
     "text": [
      "torch.Size([3452, 3]) torch.Size([3452, 3]) torch.Size([699, 3]) torch.Size([699, 3]) torch.Size([1339, 3]) torch.Size([1339, 6]) torch.Size([70000, 3])\n"
     ]
    }
   ],
   "source": [
    "print(train_init_pos_main.shape,train_disp_main.shape,test_init_pos_main.shape,test_disp_main.shape,position_selected_stresses.shape,return_stress.shape,return_colloc_points.shape)"
   ]
  },
  {
   "cell_type": "code",
   "execution_count": null,
   "metadata": {},
   "outputs": [],
   "source": []
  },
  {
   "cell_type": "code",
   "execution_count": null,
   "metadata": {},
   "outputs": [],
   "source": []
  },
  {
   "cell_type": "code",
   "execution_count": null,
   "metadata": {},
   "outputs": [],
   "source": []
  },
  {
   "cell_type": "code",
   "execution_count": 58,
   "metadata": {},
   "outputs": [],
   "source": [
    "#px.scatter_3d(data_frame=pd.DataFrame(data.collocation_data_np,columns=[\"X\",\"Y\",\"Z\"]),x=\"X\",y=\"Y\",z=\"Z\")"
   ]
  },
  {
   "cell_type": "markdown",
   "metadata": {},
   "source": [
    "# Redefinición de la PINN  \n",
    "\n",
    "La pinn implementa el calculo de los gradientes.    \n",
    "\n",
    "**Esta pinn solo da como resultado los desplazamientos, no las tensiones**"
   ]
  },
  {
   "cell_type": "code",
   "execution_count": 59,
   "metadata": {},
   "outputs": [],
   "source": [
    "def normalize(X_tensor, X_min, X_max):\n",
    "    \"\"\"\n",
    "    Normalize a tensor by columns given a max and min of each column.\n",
    "    \n",
    "    Parameters:\n",
    "    X_tensor(numpy array): Tensor to be normalized.\n",
    "    \"\"\"\n",
    "    # Normalize input vector X by each feature\n",
    "    (num_row_X, num_col_X) = X_tensor.shape\n",
    "    normalized_X_tensor = torch.zeros_like(X_tensor)\n",
    "    \n",
    "    # Fill the copy vector\n",
    "    for col in range(num_col_X):\n",
    "        min_X_col = X_min[col]\n",
    "        max_X_col = X_max[col]\n",
    "        normalized_X_tensor[:,col] = (X_tensor[:,col]-min_X_col)/(max_X_col-min_X_col)#(X_tensor[:,col]-min_X_col)*2/(max_X_col-min_X_col)# -1 #para que es este -1?  \n",
    "        \n",
    "    return normalized_X_tensor\n",
    "\n",
    "def unnormalize(X_tensor, X_min, X_max):\n",
    "    \"\"\"\n",
    "    Unnormalize a tensor by columns given a max and min of each column.\n",
    "    \n",
    "    Parameters:\n",
    "    X_tensor(numpy array): Tensor to be unnormalized.\n",
    "    X_max(numpy array): Max of each column of the tensor to be unnormalized.\n",
    "    X_min(numpy array): Min of each column of the tensor to be unnormalized.\n",
    "    \"\"\"\n",
    "    # Unnormalize input vector X by each feature\n",
    "    (num_row_X, num_col_X) = X_tensor.shape\n",
    "    unnormalized_X_tensor = torch.zeros_like(X_tensor)\n",
    "    \n",
    "    # Fill the copy vector\n",
    "    for col in range(num_col_X):\n",
    "        unnormalized_X_tensor[:,col] = (X_tensor[:,col])*(X_max[col]-X_min[col]) + X_min[col]#(X_tensor[:,col]+1)*(X_max[col]-X_min[col])/2 + X_min[col]\n",
    "        \n",
    "    return unnormalized_X_tensor"
   ]
  },
  {
   "cell_type": "code",
   "execution_count": 276,
   "metadata": {},
   "outputs": [],
   "source": [
    "# Red neuronal  \n",
    "\n",
    "class DNN(nn.Module):\n",
    "    def __init__(self,layers,init_w=\"xavier\"):\n",
    "        super().__init__() \n",
    "        self.layers=layers\n",
    "        self.activation = nn.Tanh()\n",
    "        self.linears = nn.ModuleList([nn.Linear(layers[i], layers[i+1]) for i in range(len(layers) - 1)])\n",
    "    \n",
    "        if init_w==\"xavier\":\n",
    "            #Xavier Normal Initialization\n",
    "            for i in range(len(layers)-1):\n",
    "                nn.init.xavier_normal_(self.linears[i].weight.data, gain=1.0)\n",
    "                \n",
    "                # set biases to zero\n",
    "                nn.init.zeros_(self.linears[i].bias.data)\n",
    "        # elif init_w==\"gorot\":\n",
    "        #         nn.init. (self.linears[i].weight.data, gain=1.0)\n",
    "                \n",
    "        #         # set biases to zero\n",
    "        #         nn.init.zeros_(self.linears[i].bias.data)\n",
    "\n",
    "\n",
    "    def forward(self,x):\n",
    "              \n",
    "        if torch.is_tensor(x) != True:         \n",
    "            x = torch.from_numpy(x)             \n",
    "\n",
    "        #xn = normalize(x, Pos_min, Pos_max)\n",
    "\n",
    "        # convert to float\n",
    "        a = x.float()\n",
    "        \n",
    "\n",
    "        # inpunt and hidden layers forward computation\n",
    "        for i in range(len(self.layers)-2):\n",
    "            z = self.linears[i](a)          \n",
    "            a = self.activation(z)\n",
    "\n",
    "        # output layer forward computation            \n",
    "        b = self.linears[-1](a)\n",
    "        \n",
    "        return b"
   ]
  },
  {
   "cell_type": "code",
   "execution_count": 326,
   "metadata": {},
   "outputs": [],
   "source": [
    "class PINN(DNN):\n",
    "    '''\n",
    "        Esta clase hace el registro de todos los parámetros, los cálculos de derivadas y de losses\n",
    "        Y aplica las restricciones que hagan falta\n",
    "    '''\n",
    "    def __init__(self, layers,init_values=None,device=None,separate_data_losses=True,loss_weights={\"Data\":1,\"PDE\":1,\"BC\":1}):\n",
    "        super().__init__(layers)\n",
    "        \n",
    "        if device is None:\n",
    "            self.device= \"cuda\" if torch.cuda.is_available() else \"cpu\"\n",
    "        else:\n",
    "            self.device=device\n",
    "        self.to(self.device)\n",
    "\n",
    "\n",
    "        #History of losses\n",
    "        self.loss_history = {\"Data\": [],\n",
    "                             \"PDE\": [],\n",
    "                             \"BC\": [],\n",
    "                             \"Total\":[]}\n",
    "         #Parameters trials\n",
    "        self.params_history = { \"E\": [] ,\n",
    "                                \"alpha\": []}\n",
    "\n",
    "        #inicialización de parametros\n",
    "        self.nu = init_values[0]\n",
    "        self.alpha = nn.Parameter(torch.tensor(init_values[2],dtype=torch.float32).to(self.device))\n",
    "        self.E_ref = init_values[1]\n",
    "        self.E = torch.tensor((1+self.alpha)*self.E_ref,dtype=torch.float32).to(self.device)\n",
    "        self.separate_data_losses=separate_data_losses\n",
    "        self.loss_function = nn.MSELoss(reduction ='mean')\n",
    "\n",
    "        self.w_data=loss_weights[\"Data\"]\n",
    "        self.w_PDE=loss_weights[\"PDE\"]\n",
    "        self.w_BC=loss_weights[\"BC\"]\n",
    "\n",
    "\n",
    "    def compute_XYZ(self, positions):\n",
    "        # clone the input data and add AD\n",
    "        pos = positions.clone().to(self.device)\n",
    "        X = pos[:,0].reshape(-1,1)\n",
    "        Y = pos[:,1].reshape(-1,1)\n",
    "        Z = pos[:,2].reshape(-1,1)\n",
    "        return X, Y, Z\n",
    "\n",
    "    def compute_displacements(self,X, Y, Z):\n",
    "        XYZ = torch.cat((X,Y,Z), dim=1).to( self.device )\n",
    "        # Compute the output of the DNN\n",
    "        U = self(XYZ)\n",
    "        # Separating vector of directional displacements\n",
    "        u = U[:,0].reshape(-1,1)\n",
    "        v = U[:,1].reshape(-1,1)\n",
    "        w = U[:,2].reshape(-1,1)\n",
    "        return u, v, w\n",
    "\n",
    "    # Los cálculos de las funciones de pérdida de hacen 1 vez, y luego ya vemos que hacemos\n",
    "    # con esos datos, si usar pesos, si usar otras cosas...\n",
    "\n",
    "    def loss_PDE(self, collocation_points, save = True):\n",
    "        # estos son los puntos en los que imponemos las leyes físicas  \n",
    "        # puede ser la ecuación de equilibrio, pero también pueden ser otras relaciones\n",
    "        # que conozcamos entre inputs y outputs, como por ejemplo, relaciones termodinámicas etc..\n",
    "        # si el output fuera posicion y tensión, entonces podriamos imponer la ley de hooke sobre este\n",
    "        # input.\n",
    "        X, Y, Z = self.compute_XYZ(collocation_points)\n",
    "        u, v, w = self.compute_displacements(X,Y,Z)\n",
    "\n",
    "\n",
    "        # y ahora tenemos que obtener las derivadas necesarias para aplicar la eq de equilibrio\n",
    "        epsilon = self.compute_strain(X,Y,Z,u, v, w)\n",
    "        sigma = self.compute_stress(epsilon)\n",
    "        div_sigma = self.divergence(sigma,X, Y, Z)\n",
    "\n",
    "        value_loss_PDE=self.loss_function(div_sigma,torch.zeros_like(div_sigma).to(self.device))\n",
    "        \n",
    "        if save:\n",
    "            self.loss_history[\"PDE\"].append(value_loss_PDE.to('cpu').detach().numpy())\n",
    "        \n",
    "        return value_loss_PDE\n",
    "    \n",
    "    def loss_BC(self,pos_reales,sigmas_reales,save=True):\n",
    "        #aqui tenemos las de Dirichlet y las de Neumann\n",
    "        # en mi caso que no hay contacto ni nada, pero si tengo nodos fijos!! las de Dirichlet tbn\n",
    "\n",
    "        #en esta implementación voy a imponer las sigmas solo aqui, en una futura, podría meter también\n",
    "        #las de Dirichlet para poder darles mas peso\n",
    "\n",
    "        #calculamos sobre las posiciones de las sigmas que tenemos, las dadas por el modelo\n",
    "        # predict U\n",
    "        X,Y,Z=self.compute_XYZ(pos_reales)\n",
    "        u, v, w=self.compute_displacements(X,Y,Z)\n",
    "        \n",
    "        epsilon = self.compute_strain(X,Y,Z,u, v, w)\n",
    "        sigma = self.compute_stress(epsilon) \n",
    "        #este sigma tiene primera dimension batchsize, y segunda dimension 6\n",
    "        #que corresponde con: s11,s22,s33,s23,s13,s12\n",
    "        #le imponemos que sean iguales de modo que aplicamos la loss y ya\n",
    "        value_loss_BC=self.loss_function(sigma,sigmas_reales)\n",
    "\n",
    "        if save:\n",
    "            self.loss_history[\"BC\"].append(value_loss_BC.to('cpu').detach().numpy())\n",
    "\n",
    "        return value_loss_BC\n",
    "\n",
    "    #def loss_DBC(fix_nodes)\n",
    "    #   pass\n",
    "\n",
    "    def loss_data(self, pos_reales,desp_reales,save=True):\n",
    "        #pos_reales=pos_reales.to(device)\n",
    "        u_predict=self(pos_reales)\n",
    "        if self.separate_data_losses:\n",
    "            sepatared_loss=torch.nn.MSELoss(reduction=\"none\")\n",
    "            #aux=self.loss_function(u_predict,desp_reales)\n",
    "            #esto nos devuelve la diferencia cuadrática de cada elemento, para evaluarlos por\n",
    "            #separado, vamos a hacer la media en columnas\n",
    "            # x_mse,y_mse,z_mse=torch.mean(aux,axis=0)\n",
    "            # x_mse,y_mse,z_mse=torch.sqrt(x_mse),torch.sqrt(y_mse),torch.sqrt(z_mse)\n",
    "            value_loss_data=torch.mean(torch.sqrt(torch.mean(sepatared_loss(u_predict,desp_reales),axis=0)))\n",
    "        else:\n",
    "            value_loss_data=self.loss_function(u_predict,desp_reales)\n",
    "\n",
    "        if save:\n",
    "            self.loss_history[\"Data\"].append(value_loss_data.to('cpu').detach().numpy())\n",
    "        \n",
    "        return value_loss_data\n",
    "    \n",
    "    def loss(self, pos_data,desp_data,pos_colloc,pos_BC,sigmas_BC,save=True):\n",
    "        #esto hace que se calculen todas las losses de la pinn\n",
    "        #además, si tenemos un parámetro E, este se actualizará, pe si estamos actualizando alpha en lugar\n",
    "        #de E, despues de la recalculación tendremos que actualizar E. \n",
    "\n",
    "        #actualizamos E antes de calcular nada\n",
    "\n",
    "        self.E=(1+self.alpha)*self.E_ref\n",
    "\n",
    "        value_loss_PCE=self.loss_PDE(pos_colloc,save=save)\n",
    "        value_loss_BC=self.loss_BC(pos_BC,sigmas_BC,save=save)\n",
    "        value_loss_data=self.loss_data(pos_data,desp_data,save=save)  \n",
    "        value_loss= self.w_data*value_loss_data + self.w_PDE*value_loss_PCE+ self.w_BC*value_loss_BC\n",
    "\n",
    "\n",
    "        if save: \n",
    "            #self.params_history[\"nu\"].append(self.nu)#self.nu.to('cpu').detach().numpy())\n",
    "            self.params_history[\"E\"].append(self.E.to('cpu').detach().numpy())\n",
    "            self.params_history[\"alpha\"].append(self.alpha.to('cpu').detach().numpy())\n",
    "            self.loss_history[\"Total\"].append(value_loss.to('cpu').detach().numpy())\n",
    "\n",
    "        return value_loss\n",
    "\n",
    "    def compute_gradU(self, X, Y, Z, U, V, W):\n",
    "\n",
    "        # Compute the gradient of U\n",
    "        Ux,Uy,Uz = autograd.grad(U, (X,Y,Z), torch.ones([X.shape[0], 1]).cuda(),retain_graph=True, create_graph=True)\n",
    "        # Uy = autograd.grad(U, Y, torch.ones([Y.shape[0], 1]).cuda(),retain_graph=True, create_graph=True)[0]\n",
    "        # Uz = autograd.grad(U, Z, torch.ones([Z.shape[0], 1]).cuda(),retain_graph=True, create_graph=True)[0]\n",
    "\n",
    "        # Compute the gradient of V\n",
    "        Vx,Vy,Vz = autograd.grad(V, (X,Y,Z), torch.ones([X.shape[0], 1]).cuda(),retain_graph=True, create_graph=True)\n",
    "        # Vy = autograd.grad(V, Y, torch.ones([Y.shape[0], 1]).cuda(),retain_graph=True, create_graph=True)[0]\n",
    "        # Vz = autograd.grad(V, Z, torch.ones([Z.shape[0], 1]).cuda(),retain_graph=True, create_graph=True)[0]\n",
    "\n",
    "        # Compute the gradient of W\n",
    "        Wx,Wy,Wz = autograd.grad(W, (X,Y,Z), torch.ones([X.shape[0], 1]).cuda(),retain_graph=True, create_graph=True)\n",
    "        # Wy = autograd.grad(W, Y, torch.ones([Y.shape[0], 1]).cuda(),retain_graph=True, create_graph=True)[0]\n",
    "        # Wz = autograd.grad(W, Z, torch.ones([Z.shape[0], 1]).cuda(),retain_graph=True, create_graph=True)[0]\n",
    "\n",
    "        grad_u = torch.cat((Ux , Uy, Uz), dim=1).to(torch.float32)\n",
    "        grad_v = torch.cat((Vx , Vy, Vz), dim=1).to(torch.float32)\n",
    "        grad_w = torch.cat((Wx , Wy, Wz), dim=1).to(torch.float32)\n",
    "\n",
    "        gradU = torch.cat((grad_u, grad_v, grad_w), dim=1).to(torch.float32).reshape(-1,3,3)\n",
    "\n",
    "        return gradU\n",
    "\n",
    "    def compute_strain(self, X,Y,Z,u, v, w):\n",
    "        # Compute strain components using autograd\n",
    "        nabla_U = self.compute_gradU(X,Y,Z,u, v, w).squeeze()\n",
    "        strain = 0.5 * (nabla_U + nabla_U.swapaxes(1,2))\n",
    "        return strain\n",
    "\n",
    "\n",
    "    def compute_stress(self,strain):\n",
    "        strain_flat=strain[:,(0,1,2,1,0,0),(0,1,2,2,2,1)]*torch.tensor([1,1,1,2,2,2],dtype=torch.float32).to(self.device)\n",
    "        #strain_flat=strain[:,(0,1,2,0,0,1),(0,1,2,1,2,2)] # e00,e11,e22,e01,e02,e12\n",
    "        C=(self.E/((1+self.nu)*(1-2*self.nu)))*torch.tensor(\n",
    "                [[1-self.nu,self.nu,self.nu,0,0,0],\n",
    "                [self.nu,1-self.nu,self.nu,0,0,0],\n",
    "                [self.nu,self.nu,1-self.nu,0,0,0],\n",
    "                [0,0,0,(1-2*self.nu)/2,0,0],\n",
    "                [0,0,0,0,(1-2*self.nu)/2,0],\n",
    "                [0,0,0,0,0,(1-2*self.nu)/2]]).float().to(self.device)\n",
    "\n",
    "        return torch.matmul(C,strain_flat.T.float()).T.squeeze() #s11,s22,s33,s23,s13,s12\n",
    "\n",
    "    def divergence(self,sigma, X, Y, Z):\n",
    "        div_T = torch.zeros(sigma.shape[0],3)\n",
    "        div_T[:,0]=autograd.grad(sigma[:,0],X,grad_outputs=torch.ones_like(sigma[:,0]),retain_graph=True)[0].squeeze()+autograd.grad(sigma[:,5],Y,grad_outputs=torch.ones_like(sigma[:,5]),retain_graph=True)[0].squeeze()+autograd.grad(sigma[:,4],Z,grad_outputs=torch.ones_like(sigma[:,4]),retain_graph=True)[0].squeeze()\n",
    "        div_T[:,1]=autograd.grad(sigma[:,5],X,grad_outputs=torch.ones_like(sigma[:,5]),retain_graph=True)[0].squeeze()+autograd.grad(sigma[:,1],Y,grad_outputs=torch.ones_like(sigma[:,1]),retain_graph=True)[0].squeeze()+autograd.grad(sigma[:,3],Z,grad_outputs=torch.ones_like(sigma[:,3]),retain_graph=True)[0].squeeze()\n",
    "        div_T[:,2]=autograd.grad(sigma[:,4],X,grad_outputs=torch.ones_like(sigma[:,4]),retain_graph=True)[0].squeeze()+autograd.grad(sigma[:,3],Y,grad_outputs=torch.ones_like(sigma[:,3]),retain_graph=True)[0].squeeze()+autograd.grad(sigma[:,2],Z,grad_outputs=torch.ones_like(sigma[:,2]),retain_graph=True)[0].squeeze()\n",
    "\n",
    "        return div_T\n"
   ]
  },
  {
   "cell_type": "markdown",
   "metadata": {},
   "source": [
    "# Entrenamiento"
   ]
  },
  {
   "cell_type": "code",
   "execution_count": 289,
   "metadata": {},
   "outputs": [],
   "source": [
    "#tenemos que cargar correctamente los datos para usarlos\n",
    "data=Data(\"LINEAR_SMALL_DISP\",10)\n",
    "data.load_data()\n",
    "train_init_pos_main,train_disp_main,test_init_pos_main,test_disp_main,position_selected_stresses,return_stress,return_colloc_points=data.prepare_pytorch_data()"
   ]
  },
  {
   "cell_type": "code",
   "execution_count": 327,
   "metadata": {},
   "outputs": [
    {
     "name": "stderr",
     "output_type": "stream",
     "text": [
      "/tmp/ipykernel_10243/1031869836.py:29: UserWarning:\n",
      "\n",
      "To copy construct from a tensor, it is recommended to use sourceTensor.clone().detach() or sourceTensor.clone().detach().requires_grad_(True), rather than torch.tensor(sourceTensor).\n",
      "\n"
     ]
    }
   ],
   "source": [
    "pinn=PINN([3,50,50,50,50,3],[0.4,1,0.05])"
   ]
  },
  {
   "cell_type": "code",
   "execution_count": 291,
   "metadata": {},
   "outputs": [
    {
     "name": "stdout",
     "output_type": "stream",
     "text": [
      "<class 'torch.Tensor'> <class 'torch.Tensor'> <class 'torch.Tensor'> <class 'torch.Tensor'> <class 'torch.Tensor'>\n"
     ]
    }
   ],
   "source": [
    "print(type(train_init_pos_main),type(train_disp_main),type(return_colloc_points),type(position_selected_stresses),type(return_stress))"
   ]
  },
  {
   "cell_type": "code",
   "execution_count": 301,
   "metadata": {},
   "outputs": [],
   "source": [
    "loss=pinn.loss(train_init_pos_main.to(float),train_disp_main,return_colloc_points,position_selected_stresses,return_stress)\n"
   ]
  },
  {
   "cell_type": "code",
   "execution_count": 299,
   "metadata": {},
   "outputs": [],
   "source": [
    "loss.backward()"
   ]
  },
  {
   "cell_type": "code",
   "execution_count": 318,
   "metadata": {},
   "outputs": [],
   "source": []
  },
  {
   "cell_type": "code",
   "execution_count": 300,
   "metadata": {},
   "outputs": [],
   "source": [
    "opt.step()"
   ]
  },
  {
   "cell_type": "code",
   "execution_count": 329,
   "metadata": {},
   "outputs": [
    {
     "name": "stdout",
     "output_type": "stream",
     "text": [
      "Epoch:  0 loss:  0.66603684425354\n",
      "Epoch:  1 loss:  0.5725511312484741\n",
      "Epoch:  2 loss:  0.5856472849845886\n",
      "Epoch:  3 loss:  0.6099865436553955\n",
      "Epoch:  4 loss:  0.6298280358314514\n",
      "Epoch:  5 loss:  0.6441035270690918\n",
      "Epoch:  6 loss:  0.6535943746566772\n",
      "Epoch:  7 loss:  0.6592872738838196\n",
      "Epoch:  8 loss:  0.6620864868164062\n",
      "Epoch:  9 loss:  0.6627678275108337\n",
      "Epoch:  10 loss:  0.6619813442230225\n",
      "Epoch:  11 loss:  0.6602529287338257\n",
      "Epoch:  12 loss:  0.6579747200012207\n",
      "Epoch:  13 loss:  0.6553900241851807\n",
      "Epoch:  14 loss:  0.6525842547416687\n",
      "Epoch:  15 loss:  0.6494976878166199\n",
      "Epoch:  16 loss:  0.6459642648696899\n",
      "Epoch:  17 loss:  0.6417664885520935\n",
      "Epoch:  18 loss:  0.6366918683052063\n",
      "Epoch:  19 loss:  0.6305751204490662\n",
      "Epoch:  20 loss:  0.6233215928077698\n",
      "Epoch:  21 loss:  0.6149157881736755\n",
      "Epoch:  22 loss:  0.6054179072380066\n",
      "Epoch:  23 loss:  0.5949562191963196\n",
      "Epoch:  24 loss:  0.5837176442146301\n",
      "Epoch:  25 loss:  0.5719391107559204\n",
      "Epoch:  26 loss:  0.5598995089530945\n",
      "Epoch:  27 loss:  0.5479127168655396\n",
      "Epoch:  28 loss:  0.5363180637359619\n",
      "Epoch:  29 loss:  0.5254669189453125\n",
      "Epoch:  30 loss:  0.5156946182250977\n",
      "Epoch:  31 loss:  0.5072721242904663\n",
      "Epoch:  32 loss:  0.5003378987312317\n",
      "Epoch:  33 loss:  0.49483296275138855\n",
      "Epoch:  34 loss:  0.49048668146133423\n",
      "Epoch:  35 loss:  0.48687681555747986\n",
      "Epoch:  36 loss:  0.48354029655456543\n",
      "Epoch:  37 loss:  0.4800749719142914\n"
     ]
    }
   ],
   "source": [
    "opt=torch.optim.Adam(pinn.parameters(),lr=1e-3)\n",
    "for epoch in range(2000):\n",
    "    loss=pinn.loss(train_init_pos_main,train_disp_main,return_colloc_points,position_selected_stresses,return_stress)\n",
    "    print(\"Epoch: \", epoch, \"loss: \", loss.item())\n",
    "    loss.backward()\n",
    "    opt.step()\n",
    "    opt.zero_grad()"
   ]
  },
  {
   "cell_type": "code",
   "execution_count": 311,
   "metadata": {},
   "outputs": [
    {
     "data": {
      "text/plain": [
       "[<matplotlib.lines.Line2D at 0x7f9c6c0cded0>]"
      ]
     },
     "execution_count": 311,
     "metadata": {},
     "output_type": "execute_result"
    },
    {
     "data": {
      "image/png": "[encoded data removed]",
      "text/plain": [
       "<Figure size 640x480 with 1 Axes>"
      ]
     },
     "metadata": {},
     "output_type": "display_data"
    }
   ],
   "source": [
    "plt.plot([i.item() for i in pinn.loss_history[\"Data\"]])"
   ]
  },
  {
   "cell_type": "code",
   "execution_count": 312,
   "metadata": {},
   "outputs": [
    {
     "data": {
      "text/plain": [
       "[<matplotlib.lines.Line2D at 0x7f9c6cb24b10>]"
      ]
     },
     "execution_count": 312,
     "metadata": {},
     "output_type": "execute_result"
    },
    {
     "data": {
      "image/png": "[encoded data removed]",
      "text/plain": [
       "<Figure size 640x480 with 1 Axes>"
      ]
     },
     "metadata": {},
     "output_type": "display_data"
    }
   ],
   "source": [
    "plt.plot([i.item() for i in pinn.loss_history[\"PDE\"]])"
   ]
  },
  {
   "cell_type": "code",
   "execution_count": 313,
   "metadata": {},
   "outputs": [
    {
     "data": {
      "text/plain": [
       "[<matplotlib.lines.Line2D at 0x7f9c6c0dbc10>]"
      ]
     },
     "execution_count": 313,
     "metadata": {},
     "output_type": "execute_result"
    },
    {
     "data": {
      "image/png": "[encoded data removed]",
      "text/plain": [
       "<Figure size 640x480 with 1 Axes>"
      ]
     },
     "metadata": {},
     "output_type": "display_data"
    }
   ],
   "source": [
    "plt.plot([i.item() for i in pinn.loss_history[\"BC\"]])"
   ]
  },
  {
   "cell_type": "code",
   "execution_count": 316,
   "metadata": {},
   "outputs": [
    {
     "data": {
      "text/plain": [
       "[<matplotlib.lines.Line2D at 0x7f9c8c86f890>]"
      ]
     },
     "execution_count": 316,
     "metadata": {},
     "output_type": "execute_result"
    },
    {
     "data": {
      "image/png": "[encoded data removed]",
      "text/plain": [
       "<Figure size 640x480 with 1 Axes>"
      ]
     },
     "metadata": {},
     "output_type": "display_data"
    }
   ],
   "source": [
    "plt.plot([i.item() for i in pinn.params_history[\"E\"]])"
   ]
  },
  {
   "cell_type": "code",
   "execution_count": 315,
   "metadata": {},
   "outputs": [
    {
     "data": {
      "text/plain": [
       "[<matplotlib.lines.Line2D at 0x7f9c742f37d0>]"
      ]
     },
     "execution_count": 315,
     "metadata": {},
     "output_type": "execute_result"
    },
    {
     "data": {
      "image/png": "[encoded data removed]",
      "text/plain": [
       "<Figure size 640x480 with 1 Axes>"
      ]
     },
     "metadata": {},
     "output_type": "display_data"
    }
   ],
   "source": [
    "plt.plot([i.item() for i in pinn.params_history[\"alpha\"]])"
   ]
  },
  {
   "cell_type": "markdown",
   "metadata": {},
   "source": [
    "# DDEX y pruebas autograd"
   ]
  },
  {
   "cell_type": "code",
   "execution_count": 34,
   "metadata": {},
   "outputs": [
    {
     "name": "stderr",
     "output_type": "stream",
     "text": [
      "/tmp/ipykernel_10243/2404198933.py:30: UserWarning:\n",
      "\n",
      "To copy construct from a tensor, it is recommended to use sourceTensor.clone().detach() or sourceTensor.clone().detach().requires_grad_(True), rather than torch.tensor(sourceTensor).\n",
      "\n"
     ]
    }
   ],
   "source": [
    "\n",
    "pinn=PINN([3,14,14,3],[2,3,4])\n"
   ]
  },
  {
   "cell_type": "code",
   "execution_count": 35,
   "metadata": {},
   "outputs": [
    {
     "data": {
      "text/plain": [
       "torch.Size([30, 3])"
      ]
     },
     "execution_count": 35,
     "metadata": {},
     "output_type": "execute_result"
    }
   ],
   "source": [
    "# x1=torch.randn([30],requires_grad=True).to(\"cpu\")\n",
    "# x2=torch.randn([30],requires_grad=True).to(\"cpu\")\n",
    "# x3=torch.randn([30],requires_grad=True).to(\"cpu\")\n",
    "# X=torch.stack([x1,x2,x3],dim=1)\n",
    "X=torch.randn([30,3],requires_grad=True).to(\"cuda\")\n",
    "x1=X[:,0].reshape(-1,1)\n",
    "X.shape"
   ]
  },
  {
   "cell_type": "code",
   "execution_count": 36,
   "metadata": {},
   "outputs": [
    {
     "data": {
      "text/plain": [
       "tensor([[ 0.2036,  0.2741, -0.3456],\n",
       "        [ 0.0925,  0.3825,  0.2322],\n",
       "        [-0.0454,  0.2009, -0.2854],\n",
       "        [-0.3035, -0.3187, -0.2435],\n",
       "        [-0.2676,  0.1590, -0.5100],\n",
       "        [ 0.5444, -0.1023,  0.1319],\n",
       "        [ 0.4544,  1.0185, -0.1494],\n",
       "        [ 0.1568,  0.1912,  0.3833],\n",
       "        [ 0.1458,  1.0734, -0.1743],\n",
       "        [-0.3302, -1.2895,  0.2671],\n",
       "        [-0.3320, -0.2111,  0.3653],\n",
       "        [ 0.2395,  0.0842,  0.1687],\n",
       "        [-0.0362, -0.8423,  0.5546],\n",
       "        [ 0.0472, -0.3113, -0.2631],\n",
       "        [-0.0980,  0.6193, -0.5986],\n",
       "        [-0.4486, -0.3953,  0.2426],\n",
       "        [ 0.0817,  0.7773, -0.5281],\n",
       "        [-0.4070,  0.3180,  0.4533],\n",
       "        [ 0.1936, -0.0874,  0.3108],\n",
       "        [ 0.3120,  0.4554,  0.2953],\n",
       "        [-0.4101,  0.6527, -0.1614],\n",
       "        [-0.1685, -0.7659,  0.3039],\n",
       "        [-0.4709, -0.7158, -0.2183],\n",
       "        [-0.1363, -1.1246,  0.2580],\n",
       "        [ 0.0629,  0.0626, -0.3761],\n",
       "        [ 0.4773, -0.3780, -0.0095],\n",
       "        [-0.3237,  0.3202, -0.4975],\n",
       "        [-0.0651, -0.4320,  0.4772],\n",
       "        [ 0.3247,  0.5892, -0.4730],\n",
       "        [ 0.4242,  0.9023,  0.1127]], grad_fn=<AddmmBackward0>)"
      ]
     },
     "execution_count": 36,
     "metadata": {},
     "output_type": "execute_result"
    }
   ],
   "source": [
    "y=pinn(X)\n",
    "y"
   ]
  },
  {
   "cell_type": "code",
   "execution_count": 37,
   "metadata": {},
   "outputs": [],
   "source": [
    "x,y,z=pinn.compute_XYZ(X)"
   ]
  },
  {
   "cell_type": "code",
   "execution_count": 38,
   "metadata": {},
   "outputs": [],
   "source": [
    "u,v,w=pinn.compute_displacements(x,y,z)"
   ]
  },
  {
   "cell_type": "code",
   "execution_count": 39,
   "metadata": {},
   "outputs": [],
   "source": [
    "epsilon=pinn.compute_strain(x,y,z,u, v, w)"
   ]
  },
  {
   "cell_type": "code",
   "execution_count": 40,
   "metadata": {},
   "outputs": [
    {
     "data": {
      "text/plain": [
       "torch.Size([30, 6])"
      ]
     },
     "execution_count": 40,
     "metadata": {},
     "output_type": "execute_result"
    }
   ],
   "source": [
    "#strain_flat=strain[:,(0,1,2,1,0,0),(0,1,2,2,2,1)]*torch.tensor([1,1,1,2,2,2],dtype=torch.float32).to(device)\n",
    "strain_flat=epsilon[:,(0,1,2,0,0,1),(0,1,2,1,2,2)]\n",
    "strain_flat.shape"
   ]
  },
  {
   "cell_type": "code",
   "execution_count": 41,
   "metadata": {},
   "outputs": [],
   "source": [
    "nu=2.0\n",
    "E=1.0\n",
    "C=(E/((1+nu)*(1-2*nu)))*torch.tensor(\n",
    "        [[1-nu,nu,nu,0,0,0],\n",
    "        [nu,1-nu,nu,0,0,0],\n",
    "        [nu,nu,1-nu,0,0,0],\n",
    "        [0,0,0,(1-2*nu)/2,0,0],\n",
    "        [0,0,0,0,(1-2*nu)/2,0],\n",
    "        [0,0,0,0,0,(1-2*nu)/2]]).float().to(\"cuda\")\n",
    "a=torch.matmul(C,strain_flat.T.float()).T.squeeze()"
   ]
  },
  {
   "cell_type": "code",
   "execution_count": 42,
   "metadata": {},
   "outputs": [
    {
     "data": {
      "text/plain": [
       "torch.Size([30, 6])"
      ]
     },
     "execution_count": 42,
     "metadata": {},
     "output_type": "execute_result"
    }
   ],
   "source": [
    "sigma=pinn.compute_stress(epsilon)\n",
    "sigma.shape"
   ]
  },
  {
   "cell_type": "code",
   "execution_count": 43,
   "metadata": {},
   "outputs": [
    {
     "data": {
      "text/plain": [
       "tensor([[ 0.2164, -0.7212,  0.5777],\n",
       "        [-0.1004, -0.3578, -0.3169],\n",
       "        [ 0.1412, -0.4319,  0.6826],\n",
       "        [ 0.2173,  0.6775,  0.2942],\n",
       "        [ 0.6122, -0.3196,  0.7825],\n",
       "        [-0.7018,  0.3510,  0.0092],\n",
       "        [-0.3423, -0.5681,  0.4467],\n",
       "        [-0.6779,  0.5815, -0.6340],\n",
       "        [ 0.1369, -1.5308,  0.7013],\n",
       "        [ 0.4460,  0.4016, -0.1963],\n",
       "        [-0.3432,  0.4088, -0.6983],\n",
       "        [-0.2649, -0.2344, -0.2761],\n",
       "        [-0.0352,  0.2835, -0.4109],\n",
       "        [ 0.2494, -0.0865,  0.5268],\n",
       "        [ 0.2281, -0.2082,  0.5426],\n",
       "        [ 0.1375,  0.1141, -0.6114],\n",
       "        [-0.0173, -0.3727,  0.3007],\n",
       "        [-0.5411,  0.0882, -0.7284],\n",
       "        [-0.3171,  0.1401, -0.6773],\n",
       "        [-0.3241, -0.6587, -0.3398],\n",
       "        [ 0.9779, -0.9985,  0.2715],\n",
       "        [ 0.2255,  0.8108, -0.5545],\n",
       "        [-0.1071,  1.2819, -0.0567],\n",
       "        [ 0.0934,  1.1609, -0.6818],\n",
       "        [ 0.4827, -0.8142,  0.6434],\n",
       "        [-1.0092,  0.7332,  0.1085],\n",
       "        [ 0.3417, -0.1929,  0.7881],\n",
       "        [-0.1254,  0.7450, -0.2437],\n",
       "        [ 0.0081, -0.4469,  0.0435],\n",
       "        [ 0.2435, -1.4806,  0.3199]])"
      ]
     },
     "execution_count": 43,
     "metadata": {},
     "output_type": "execute_result"
    }
   ],
   "source": [
    "pinn.divergence(sigma,x,y,z)"
   ]
  },
  {
   "cell_type": "code",
   "execution_count": 44,
   "metadata": {},
   "outputs": [
    {
     "data": {
      "text/plain": [
       "tensor([[ 0.6544],\n",
       "        [-0.0213],\n",
       "        [ 0.6410],\n",
       "        [ 0.0293],\n",
       "        [ 0.5704],\n",
       "        [-0.3237],\n",
       "        [ 0.7192],\n",
       "        [-0.5146],\n",
       "        [ 0.9117],\n",
       "        [-0.3908],\n",
       "        [-0.5862],\n",
       "        [-0.1723],\n",
       "        [-0.2496],\n",
       "        [ 0.2317],\n",
       "        [ 0.2310],\n",
       "        [-0.6450],\n",
       "        [ 0.2259],\n",
       "        [-0.4093],\n",
       "        [-0.5512],\n",
       "        [-0.0313],\n",
       "        [ 0.7927],\n",
       "        [-0.7740],\n",
       "        [-0.4406],\n",
       "        [-0.7399],\n",
       "        [ 0.6091],\n",
       "        [-0.4515],\n",
       "        [ 0.5983],\n",
       "        [-0.3121],\n",
       "        [ 0.1155],\n",
       "        [ 0.7333]])"
      ]
     },
     "execution_count": 44,
     "metadata": {},
     "output_type": "execute_result"
    }
   ],
   "source": [
    "autograd.grad(sigma[:,0],(x,y),grad_outputs=torch.ones_like(sigma[:,0]),retain_graph=True)[1]\n"
   ]
  },
  {
   "cell_type": "code",
   "execution_count": 75,
   "metadata": {},
   "outputs": [
    {
     "data": {
      "text/plain": [
       "tensor([[-0.1307],\n",
       "        [-0.3491],\n",
       "        [-0.3558],\n",
       "        [-0.3587],\n",
       "        [-0.3415],\n",
       "        [-0.3003],\n",
       "        [-0.3599],\n",
       "        [-0.2743],\n",
       "        [-0.3231],\n",
       "        [-0.3407],\n",
       "        [-0.2494],\n",
       "        [-0.2730],\n",
       "        [-0.2762],\n",
       "        [-0.2505],\n",
       "        [-0.3960],\n",
       "        [-0.0742],\n",
       "        [-0.2699],\n",
       "        [-0.1811],\n",
       "        [-0.2346],\n",
       "        [-0.3323],\n",
       "        [-0.2476],\n",
       "        [-0.2374],\n",
       "        [-0.1814],\n",
       "        [-0.3360],\n",
       "        [-0.2278],\n",
       "        [-0.2573],\n",
       "        [-0.3492],\n",
       "        [-0.1643],\n",
       "        [-0.3686],\n",
       "        [-0.3068]], grad_fn=<SliceBackward0>)"
      ]
     },
     "execution_count": 75,
     "metadata": {},
     "output_type": "execute_result"
    }
   ],
   "source": [
    "dde.gradients.jacobian(y,X,i=0,j=2)"
   ]
  },
  {
   "cell_type": "code",
   "execution_count": 60,
   "metadata": {},
   "outputs": [],
   "source": [
    "u=y[:,0].reshape(-1,1)\n",
    "v=y[:,1].reshape(-1,1)\n",
    "w=y[:,2].reshape(-1,1)\n"
   ]
  },
  {
   "cell_type": "code",
   "execution_count": 229,
   "metadata": {},
   "outputs": [
    {
     "data": {
      "text/plain": [
       "(tensor([-0.0659,  0.2257, -0.1269, -0.1927,  0.2281,  0.0342,  0.1136,  0.0081,\n",
       "          0.0216,  0.2476,  0.0974, -0.0360,  0.0762,  0.1903,  0.0621,  0.0816,\n",
       "          0.0100, -0.0140,  0.2266,  0.0691, -0.0033,  0.1553,  0.1227, -0.1195,\n",
       "          0.1057,  0.1504, -0.0533,  0.0926, -0.0106,  0.0489], device='cuda:0'),)"
      ]
     },
     "execution_count": 229,
     "metadata": {},
     "output_type": "execute_result"
    }
   ],
   "source": [
    "autograd.grad(y,x1,grad_outputs=torch.ones(y.shape[0],3).to(\"cuda\"),allow_unused=True,retain_graph=True)\n"
   ]
  },
  {
   "cell_type": "code",
   "execution_count": 233,
   "metadata": {},
   "outputs": [
    {
     "data": {
      "text/plain": [
       "tensor([-0.0659,  0.2257, -0.1269, -0.1927,  0.2281,  0.0342,  0.1136,  0.0081,\n",
       "         0.0216,  0.2476,  0.0974, -0.0360,  0.0762,  0.1903,  0.0621,  0.0816,\n",
       "         0.0100, -0.0140,  0.2266,  0.0691, -0.0033,  0.1553,  0.1227, -0.1195,\n",
       "         0.1057,  0.1504, -0.0533,  0.0926, -0.0106,  0.0489], device='cuda:0')"
      ]
     },
     "execution_count": 233,
     "metadata": {},
     "output_type": "execute_result"
    }
   ],
   "source": [
    "torch.sum(torch.stack([autograd.grad(u,x1,grad_outputs=torch.ones(u.shape[0],1).to(\"cuda\"),allow_unused=True,retain_graph=True)[0],\n",
    "                       autograd.grad(v,x1,grad_outputs=torch.ones(v.shape[0],1).to(\"cuda\"),allow_unused=True,retain_graph=True)[0],\n",
    "                       autograd.grad(w,x1,grad_outputs=torch.ones(w.shape[0],1).to(\"cuda\"),allow_unused=True,retain_graph=True)[0]]),axis=0)"
   ]
  },
  {
   "cell_type": "code",
   "execution_count": null,
   "metadata": {},
   "outputs": [],
   "source": []
  },
  {
   "cell_type": "code",
   "execution_count": 166,
   "metadata": {},
   "outputs": [
    {
     "data": {
      "text/plain": [
       "(None,)"
      ]
     },
     "execution_count": 166,
     "metadata": {},
     "output_type": "execute_result"
    }
   ],
   "source": [
    "autograd.grad(c,b_aux,grad_outputs=torch.ones(3,1,3),allow_unused=True)"
   ]
  },
  {
   "cell_type": "code",
   "execution_count": 108,
   "metadata": {},
   "outputs": [],
   "source": [
    "c=torch.stack([a*2*b,b*2,a*b]).reshape(1,3,-1)\n",
    "b=b.reshape(1,-1)\n"
   ]
  },
  {
   "cell_type": "code",
   "execution_count": 113,
   "metadata": {},
   "outputs": [
    {
     "ename": "RuntimeError",
     "evalue": "Mismatch in shape: grad_output[0] has a shape of torch.Size([1, 1]) and output[0] has a shape of torch.Size([3]).",
     "output_type": "error",
     "traceback": [
      "\u001b[0;31m---------------------------------------------------------------------------\u001b[0m",
      "\u001b[0;31mRuntimeError\u001b[0m                              Traceback (most recent call last)",
      "\u001b[1;32m/home/arturo/Documents/programacion_stuff/DeepElasticity/notebooks/001-LinealElasticity/000-Lo_que_ya_funcionaba.ipynb Cell 16\u001b[0m line \u001b[0;36m1\n\u001b[0;32m----> <a href='vscode-notebook-cell:/home/arturo/Documents/programacion_stuff/DeepElasticity/notebooks/001-LinealElasticity/000-Lo_que_ya_funcionaba.ipynb#X21sZmlsZQ%3D%3D?line=0'>1</a>\u001b[0m divergence(b,c)\n",
      "\u001b[1;32m/home/arturo/Documents/programacion_stuff/DeepElasticity/notebooks/001-LinealElasticity/000-Lo_que_ya_funcionaba.ipynb Cell 16\u001b[0m line \u001b[0;36m5\n\u001b[1;32m      <a href='vscode-notebook-cell:/home/arturo/Documents/programacion_stuff/DeepElasticity/notebooks/001-LinealElasticity/000-Lo_que_ya_funcionaba.ipynb#X21sZmlsZQ%3D%3D?line=1'>2</a>\u001b[0m div_T \u001b[39m=\u001b[39m torch\u001b[39m.\u001b[39mzeros(\u001b[39m3\u001b[39m)\n\u001b[1;32m      <a href='vscode-notebook-cell:/home/arturo/Documents/programacion_stuff/DeepElasticity/notebooks/001-LinealElasticity/000-Lo_que_ya_funcionaba.ipynb#X21sZmlsZQ%3D%3D?line=3'>4</a>\u001b[0m \u001b[39mfor\u001b[39;00m i \u001b[39min\u001b[39;00m \u001b[39mrange\u001b[39m(\u001b[39m3\u001b[39m):\n\u001b[0;32m----> <a href='vscode-notebook-cell:/home/arturo/Documents/programacion_stuff/DeepElasticity/notebooks/001-LinealElasticity/000-Lo_que_ya_funcionaba.ipynb#X21sZmlsZQ%3D%3D?line=4'>5</a>\u001b[0m     div_T[i] \u001b[39m=\u001b[39m autograd\u001b[39m.\u001b[39;49mgrad(T[\u001b[39m0\u001b[39;49m, i], inputs[\u001b[39m0\u001b[39;49m],grad_outputs\u001b[39m=\u001b[39;49mtorch\u001b[39m.\u001b[39;49mones(inputs\u001b[39m.\u001b[39;49mshape[\u001b[39m0\u001b[39;49m],\u001b[39m1\u001b[39;49m), retain_graph\u001b[39m=\u001b[39;49m\u001b[39mTrue\u001b[39;49;00m, create_graph\u001b[39m=\u001b[39;49m\u001b[39mTrue\u001b[39;49;00m)[\u001b[39m0\u001b[39m]\n\u001b[1;32m      <a href='vscode-notebook-cell:/home/arturo/Documents/programacion_stuff/DeepElasticity/notebooks/001-LinealElasticity/000-Lo_que_ya_funcionaba.ipynb#X21sZmlsZQ%3D%3D?line=5'>6</a>\u001b[0m     div_T[i] \u001b[39m+\u001b[39m\u001b[39m=\u001b[39m autograd\u001b[39m.\u001b[39mgrad(T[\u001b[39m1\u001b[39m, i], inputs[\u001b[39m1\u001b[39m],grad_outputs\u001b[39m=\u001b[39mtorch\u001b[39m.\u001b[39mones(inputs\u001b[39m.\u001b[39mshape[\u001b[39m0\u001b[39m],\u001b[39m1\u001b[39m), retain_graph\u001b[39m=\u001b[39m\u001b[39mTrue\u001b[39;00m, create_graph\u001b[39m=\u001b[39m\u001b[39mTrue\u001b[39;00m)[\u001b[39m0\u001b[39m]\n\u001b[1;32m      <a href='vscode-notebook-cell:/home/arturo/Documents/programacion_stuff/DeepElasticity/notebooks/001-LinealElasticity/000-Lo_que_ya_funcionaba.ipynb#X21sZmlsZQ%3D%3D?line=6'>7</a>\u001b[0m     div_T[i] \u001b[39m+\u001b[39m\u001b[39m=\u001b[39m autograd\u001b[39m.\u001b[39mgrad(T[\u001b[39m2\u001b[39m, i], inputs[\u001b[39m2\u001b[39m],grad_outputs\u001b[39m=\u001b[39mtorch\u001b[39m.\u001b[39mones(inputs\u001b[39m.\u001b[39mshape[\u001b[39m0\u001b[39m],\u001b[39m1\u001b[39m), retain_graph\u001b[39m=\u001b[39m\u001b[39mTrue\u001b[39;00m, create_graph\u001b[39m=\u001b[39m\u001b[39mTrue\u001b[39;00m)[\u001b[39m0\u001b[39m]\n",
      "File \u001b[0;32m~/miniconda3/envs/pinns/lib/python3.11/site-packages/torch/autograd/__init__.py:288\u001b[0m, in \u001b[0;36mgrad\u001b[0;34m(outputs, inputs, grad_outputs, retain_graph, create_graph, only_inputs, allow_unused, is_grads_batched)\u001b[0m\n\u001b[1;32m    283\u001b[0m     warnings\u001b[39m.\u001b[39mwarn(\u001b[39m\"\u001b[39m\u001b[39monly_inputs argument is deprecated and is ignored now \u001b[39m\u001b[39m\"\u001b[39m\n\u001b[1;32m    284\u001b[0m                   \u001b[39m\"\u001b[39m\u001b[39m(defaults to True). To accumulate gradient for other \u001b[39m\u001b[39m\"\u001b[39m\n\u001b[1;32m    285\u001b[0m                   \u001b[39m\"\u001b[39m\u001b[39mparts of the graph, please use torch.autograd.backward.\u001b[39m\u001b[39m\"\u001b[39m)\n\u001b[1;32m    287\u001b[0m grad_outputs_ \u001b[39m=\u001b[39m _tensor_or_tensors_to_tuple(grad_outputs, \u001b[39mlen\u001b[39m(t_outputs))\n\u001b[0;32m--> 288\u001b[0m grad_outputs_ \u001b[39m=\u001b[39m _make_grads(t_outputs, grad_outputs_, is_grads_batched\u001b[39m=\u001b[39;49mis_grads_batched)\n\u001b[1;32m    290\u001b[0m \u001b[39mif\u001b[39;00m retain_graph \u001b[39mis\u001b[39;00m \u001b[39mNone\u001b[39;00m:\n\u001b[1;32m    291\u001b[0m     retain_graph \u001b[39m=\u001b[39m create_graph\n",
      "File \u001b[0;32m~/miniconda3/envs/pinns/lib/python3.11/site-packages/torch/autograd/__init__.py:71\u001b[0m, in \u001b[0;36m_make_grads\u001b[0;34m(outputs, grads, is_grads_batched)\u001b[0m\n\u001b[1;32m     59\u001b[0m         \u001b[39mraise\u001b[39;00m \u001b[39mRuntimeError\u001b[39;00m(\u001b[39m\"\u001b[39m\u001b[39mIf `is_grads_batched=True`, we interpret the first \u001b[39m\u001b[39m\"\u001b[39m\n\u001b[1;32m     60\u001b[0m                            \u001b[39m\"\u001b[39m\u001b[39mdimension of each grad_output as the batch dimension. \u001b[39m\u001b[39m\"\u001b[39m\n\u001b[1;32m     61\u001b[0m                            \u001b[39m\"\u001b[39m\u001b[39mThe sizes of the remaining dimensions are expected to match \u001b[39m\u001b[39m\"\u001b[39m\n\u001b[0;32m   (...)\u001b[0m\n\u001b[1;32m     68\u001b[0m                            \u001b[39m\"\u001b[39m\u001b[39mIf you only want some tensors in `grad_output` to be considered \u001b[39m\u001b[39m\"\u001b[39m\n\u001b[1;32m     69\u001b[0m                            \u001b[39m\"\u001b[39m\u001b[39mbatched, consider using vmap.\u001b[39m\u001b[39m\"\u001b[39m)\n\u001b[1;32m     70\u001b[0m     \u001b[39melse\u001b[39;00m:\n\u001b[0;32m---> 71\u001b[0m         \u001b[39mraise\u001b[39;00m \u001b[39mRuntimeError\u001b[39;00m(\u001b[39m\"\u001b[39m\u001b[39mMismatch in shape: grad_output[\u001b[39m\u001b[39m\"\u001b[39m\n\u001b[1;32m     72\u001b[0m                            \u001b[39m+\u001b[39m \u001b[39mstr\u001b[39m(grads\u001b[39m.\u001b[39mindex(grad)) \u001b[39m+\u001b[39m \u001b[39m\"\u001b[39m\u001b[39m] has a shape of \u001b[39m\u001b[39m\"\u001b[39m\n\u001b[1;32m     73\u001b[0m                            \u001b[39m+\u001b[39m \u001b[39mstr\u001b[39m(grad_shape) \u001b[39m+\u001b[39m \u001b[39m\"\u001b[39m\u001b[39m and output[\u001b[39m\u001b[39m\"\u001b[39m\n\u001b[1;32m     74\u001b[0m                            \u001b[39m+\u001b[39m \u001b[39mstr\u001b[39m(outputs\u001b[39m.\u001b[39mindex(out)) \u001b[39m+\u001b[39m \u001b[39m\"\u001b[39m\u001b[39m] has a shape of \u001b[39m\u001b[39m\"\u001b[39m\n\u001b[1;32m     75\u001b[0m                            \u001b[39m+\u001b[39m \u001b[39mstr\u001b[39m(out_shape) \u001b[39m+\u001b[39m \u001b[39m\"\u001b[39m\u001b[39m.\u001b[39m\u001b[39m\"\u001b[39m)\n\u001b[1;32m     76\u001b[0m \u001b[39mif\u001b[39;00m out\u001b[39m.\u001b[39mdtype\u001b[39m.\u001b[39mis_complex \u001b[39m!=\u001b[39m grad\u001b[39m.\u001b[39mdtype\u001b[39m.\u001b[39mis_complex:\n\u001b[1;32m     77\u001b[0m     \u001b[39mraise\u001b[39;00m \u001b[39mRuntimeError\u001b[39;00m(\u001b[39m\"\u001b[39m\u001b[39mFor complex Tensors, both grad_output and output\u001b[39m\u001b[39m\"\u001b[39m\n\u001b[1;32m     78\u001b[0m                        \u001b[39m\"\u001b[39m\u001b[39m are required to have the same dtype.\u001b[39m\u001b[39m\"\u001b[39m\n\u001b[1;32m     79\u001b[0m                        \u001b[39m\"\u001b[39m\u001b[39m Mismatch in dtype: grad_output[\u001b[39m\u001b[39m\"\u001b[39m\n\u001b[0;32m   (...)\u001b[0m\n\u001b[1;32m     82\u001b[0m                        \u001b[39m+\u001b[39m \u001b[39mstr\u001b[39m(outputs\u001b[39m.\u001b[39mindex(out)) \u001b[39m+\u001b[39m \u001b[39m\"\u001b[39m\u001b[39m] has a dtype of \u001b[39m\u001b[39m\"\u001b[39m\n\u001b[1;32m     83\u001b[0m                        \u001b[39m+\u001b[39m \u001b[39mstr\u001b[39m(out\u001b[39m.\u001b[39mdtype) \u001b[39m+\u001b[39m \u001b[39m\"\u001b[39m\u001b[39m.\u001b[39m\u001b[39m\"\u001b[39m)\n",
      "\u001b[0;31mRuntimeError\u001b[0m: Mismatch in shape: grad_output[0] has a shape of torch.Size([1, 1]) and output[0] has a shape of torch.Size([3])."
     ]
    }
   ],
   "source": [
    "divergence(b,c)"
   ]
  },
  {
   "cell_type": "code",
   "execution_count": null,
   "metadata": {},
   "outputs": [],
   "source": []
  }
 ],
 "metadata": {
  "kernelspec": {
   "display_name": "pinns",
   "language": "python",
   "name": "python3"
  },
  "language_info": {
   "codemirror_mode": {
    "name": "ipython",
    "version": 3
   },
   "file_extension": ".py",
   "mimetype": "text/x-python",
   "name": "python",
   "nbconvert_exporter": "python",
   "pygments_lexer": "ipython3",
   "version": "3.11.5"
  }
 },
 "nbformat": 4,
 "nbformat_minor": 2
}
