{
 "cells": [
  {
   "cell_type": "markdown",
   "metadata": {},
   "source": [
    "**Aquí voy a probar todas las funcionalidades necesarias para hacer la librería de funciones que voy a ir reutilizando.  \n",
    "Va a tener las siguientes partes:**  \n",
    "1. Utils:   \n",
    "    1. **Datos**: Funcionalidad de carga de datos, además de seleciones que no modifique los datos.\n",
    "    2. **Preprocess**: Cosas como normalizacion, o algunas formas de reordenar u obtener transformaciones de los datos.  \n",
    "    3. **PostProcess**: Para la parte de manejar los resultados.   \n",
    "    4. **Vizutils**: Es una forma de crear representaciones sobre los datos finales o los inciales.   \n",
    "\n",
    "2. **Models**:  Toda la parte de modelos, tanto para DNN, como las variantes de PINNs y GNN...  Añadir la opcion de selfadaptative weight en la loss.\n",
    "3. **Train**: Utilidades que hacen el entrenamiento y tal. No creo que haya mucha complegidad aquí."
   ]
  },
  {
   "cell_type": "code",
   "execution_count": 1,
   "metadata": {},
   "outputs": [],
   "source": [
    "import os \n",
    "BASE_DIR=os.path.abspath(\"../../\")"
   ]
  },
  {
   "cell_type": "code",
   "execution_count": 2,
   "metadata": {},
   "outputs": [],
   "source": [
    "import sys \n",
    "sys.path.append(BASE_DIR)\n",
    "DATA_DIR=\"/home/arturo/Documents/programacion_stuff/DeepElasticity/data/001-LinearElasticity\""
   ]
  },
  {
   "cell_type": "code",
   "execution_count": 3,
   "metadata": {},
   "outputs": [],
   "source": [
    "from src.utils.data import Data\n",
    "from src.models import PINN  \n",
    "from src.train import Trainer\n",
    "import torch \n",
    "import matplotlib.pyplot as plt "
   ]
  },
  {
   "cell_type": "code",
   "execution_count": 4,
   "metadata": {},
   "outputs": [],
   "source": [
    "data=Data(\"MULTIPLE_E_VALUES_NEW\",10,E=\"0.005\",base_dir=DATA_DIR)\n"
   ]
  },
  {
   "cell_type": "code",
   "execution_count": 5,
   "metadata": {},
   "outputs": [],
   "source": [
    "data.load_data()"
   ]
  },
  {
   "cell_type": "code",
   "execution_count": 6,
   "metadata": {},
   "outputs": [],
   "source": [
    "train_init_pos_main,train_disp_main,test_init_pos_main,test_disp_main,position_selected_stresses,return_stress,return_colloc_points=data.prepare_pytorch_data()"
   ]
  },
  {
   "cell_type": "code",
   "execution_count": 7,
   "metadata": {},
   "outputs": [
    {
     "name": "stdout",
     "output_type": "stream",
     "text": [
      "['Data', 'PDE']\n"
     ]
    },
    {
     "name": "stderr",
     "output_type": "stream",
     "text": [
      "/home/arturo/Documents/programacion_stuff/DeepElasticity/src/models.py:104: UserWarning: To copy construct from a tensor, it is recommended to use sourceTensor.clone().detach() or sourceTensor.clone().detach().requires_grad_(True), rather than torch.tensor(sourceTensor).\n",
      "  self.E = torch.tensor((1+self.alpha)*self.E_ref,dtype=torch.float32).to(self.device)\n"
     ]
    }
   ],
   "source": [
    "init_values={\"nu\":.4,\"alpha\":1.1,\"E_ref\":0.05}\n",
    "pinn=PINN([3,80,80,80,80,80,80,3],init_values,loss_weights={\"Data\":None,\"PDE\":None,\"BC\":1})"
   ]
  },
  {
   "cell_type": "code",
   "execution_count": 8,
   "metadata": {},
   "outputs": [
    {
     "data": {
      "text/plain": [
       "1"
      ]
     },
     "execution_count": 8,
     "metadata": {},
     "output_type": "execute_result"
    }
   ],
   "source": [
    "pinn.w_BC"
   ]
  },
  {
   "cell_type": "code",
   "execution_count": 9,
   "metadata": {},
   "outputs": [
    {
     "name": "stdout",
     "output_type": "stream",
     "text": [
      "Parameter containing:\n",
      "tensor(1.1000, device='cuda:0', requires_grad=True)\n",
      "Parameter containing:\n",
      "tensor([0.1359], device='cuda:0', requires_grad=True)\n",
      "Parameter containing:\n",
      "tensor([[ 6.2328e-02, -1.3066e-01, -2.8200e-01],\n",
      "        [-3.8814e-02,  1.3907e-01, -1.5258e-01],\n",
      "        [-3.0987e-01,  2.3153e-01,  6.9403e-02],\n",
      "        [ 3.0103e-02,  9.6208e-02, -4.9317e-02],\n",
      "        [-1.4086e-01, -1.0772e-02, -8.0315e-02],\n",
      "        [ 8.4260e-02,  2.1000e-01, -8.2158e-02],\n",
      "        [ 1.8521e-02, -2.4820e-02, -6.0064e-02],\n",
      "        [-1.0746e-01, -3.5542e-02, -2.8615e-01],\n",
      "        [ 4.2026e-02, -4.8494e-03,  6.2661e-02],\n",
      "        [ 6.8954e-02, -1.0887e-01, -2.1404e-01],\n",
      "        [-1.6113e-01, -4.6766e-02,  7.7686e-02],\n",
      "        [-7.1685e-02,  1.1988e-01,  3.0946e-01],\n",
      "        [-2.4325e-02, -1.4636e-02,  1.3726e-01],\n",
      "        [ 4.4108e-02, -1.9498e-01,  1.7387e-01],\n",
      "        [ 1.2500e-01,  1.4705e-01, -3.1177e-01],\n",
      "        [-3.2758e-04, -2.1181e-01,  3.2438e-01],\n",
      "        [ 2.1815e-01,  1.6445e-01, -9.7109e-02],\n",
      "        [-8.6825e-02,  1.1107e-01, -3.3007e-02],\n",
      "        [-2.2628e-01,  1.5932e-02,  8.8174e-03],\n",
      "        [-1.1130e-01, -7.4964e-02, -1.4205e-01],\n",
      "        [ 5.6785e-02,  4.3721e-01, -9.9552e-02],\n",
      "        [ 2.5185e-02, -1.0513e-01, -7.0321e-03],\n",
      "        [-1.9988e-01, -6.5579e-02, -2.0364e-01],\n",
      "        [-3.3127e-01,  3.6152e-01, -2.8463e-01],\n",
      "        [-2.0771e-01, -2.3513e-02,  1.1423e-01],\n",
      "        [-1.7327e-01,  1.5987e-01,  6.4454e-02],\n",
      "        [-1.9867e-01,  1.5443e-01,  4.6964e-03],\n",
      "        [-5.7363e-02, -3.6804e-02, -7.2123e-02],\n",
      "        [ 6.2086e-03,  1.1436e-01, -2.0864e-01],\n",
      "        [-1.6932e-02, -1.2807e-01, -1.1580e-01],\n",
      "        [ 4.5845e-01, -9.5216e-02, -2.0383e-02],\n",
      "        [-1.5998e-01, -1.3248e-01,  6.2305e-02],\n",
      "        [ 1.4467e-02,  7.9629e-02,  1.1080e-01],\n",
      "        [ 2.4847e-01, -4.9149e-02,  3.0037e-01],\n",
      "        [ 9.9029e-02,  1.4396e-01,  2.6757e-02],\n",
      "        [-1.4883e-01,  2.4193e-01, -3.2186e-02],\n",
      "        [-3.9324e-01, -2.3318e-01,  6.7055e-02],\n",
      "        [-1.9810e-01,  1.7439e-01,  7.0884e-02],\n",
      "        [ 1.2825e-02,  2.5451e-03, -2.5407e-01],\n",
      "        [-1.3119e-01,  2.6233e-02,  6.4382e-02],\n",
      "        [ 1.5292e-01, -1.3037e-01, -1.5740e-02],\n",
      "        [-8.9029e-02,  2.9980e-01,  3.8576e-02],\n",
      "        [-7.0755e-02,  1.0553e-01,  1.9234e-01],\n",
      "        [ 1.2682e-01, -1.5897e-02,  3.5043e-02],\n",
      "        [-7.0284e-02,  1.4137e-01, -8.4990e-02],\n",
      "        [ 7.6167e-02, -2.1092e-01,  1.0724e-01],\n",
      "        [-1.2882e-01,  2.3471e-01, -2.4081e-01],\n",
      "        [ 3.6726e-01, -4.6731e-03,  8.0204e-02],\n",
      "        [ 1.3540e-01, -2.5412e-01,  1.5951e-01],\n",
      "        [-1.3864e-01,  1.4657e-01,  7.5345e-02],\n",
      "        [-4.8052e-03,  8.7659e-02, -1.6480e-01],\n",
      "        [-1.5996e-02, -8.4620e-02, -7.1158e-02],\n",
      "        [-3.2051e-02,  1.8615e-01,  1.8482e-01],\n",
      "        [ 1.7558e-01,  3.5431e-02,  2.2645e-01],\n",
      "        [-4.3347e-02,  3.9340e-02, -1.9064e-01],\n",
      "        [ 1.0918e-01, -1.0111e-01,  1.1855e-01],\n",
      "        [-2.6690e-01, -7.5352e-02, -2.9094e-01],\n",
      "        [ 2.2626e-03,  9.0501e-02, -4.4120e-02],\n",
      "        [-1.1067e-01, -1.6744e-01, -1.1235e-01],\n",
      "        [ 2.6128e-01,  2.4607e-01,  1.7956e-01],\n",
      "        [-8.1821e-02, -4.3821e-02, -2.4099e-01],\n",
      "        [ 1.0552e-01,  3.6807e-02, -1.4349e-01],\n",
      "        [ 9.5465e-02, -1.5121e-02,  1.5362e-01],\n",
      "        [-5.2950e-03,  1.0244e-01,  1.5296e-01],\n",
      "        [-2.0193e-01, -7.2819e-02, -8.5732e-02],\n",
      "        [ 8.2497e-02,  1.2043e-02,  1.8713e-01],\n",
      "        [ 1.5846e-01, -4.9710e-02,  3.7865e-02],\n",
      "        [ 8.0939e-02,  1.3870e-01,  1.2504e-02],\n",
      "        [ 1.8353e-02, -1.0787e-01,  1.1618e-01],\n",
      "        [-2.8313e-01, -2.4648e-01, -1.0475e-02],\n",
      "        [-7.8598e-03, -2.8245e-02,  1.0054e-01],\n",
      "        [ 3.5211e-01,  1.1542e-02,  3.2735e-02],\n",
      "        [ 1.7213e-01, -7.2982e-02, -8.0978e-02],\n",
      "        [ 2.4811e-02,  5.0303e-02, -4.1342e-01],\n",
      "        [-1.7334e-01,  2.8580e-01, -2.3074e-01],\n",
      "        [-8.0352e-02,  3.2179e-01,  4.9550e-02],\n",
      "        [ 1.3246e-02,  3.0756e-03, -1.0511e-01],\n",
      "        [ 2.9266e-01, -5.5453e-02,  1.8762e-01],\n",
      "        [-1.9878e-01,  9.2846e-03,  4.1332e-01],\n",
      "        [ 2.3949e-02,  1.4641e-01, -7.0018e-02]], device='cuda:0',\n",
      "       requires_grad=True)\n",
      "Parameter containing:\n",
      "tensor([0., 0., 0., 0., 0., 0., 0., 0., 0., 0., 0., 0., 0., 0., 0., 0., 0., 0., 0., 0., 0., 0., 0., 0.,\n",
      "        0., 0., 0., 0., 0., 0., 0., 0., 0., 0., 0., 0., 0., 0., 0., 0., 0., 0., 0., 0., 0., 0., 0., 0.,\n",
      "        0., 0., 0., 0., 0., 0., 0., 0., 0., 0., 0., 0., 0., 0., 0., 0., 0., 0., 0., 0., 0., 0., 0., 0.,\n",
      "        0., 0., 0., 0., 0., 0., 0., 0.], device='cuda:0', requires_grad=True)\n",
      "Parameter containing:\n",
      "tensor([[ 0.0586, -0.1571,  0.1030,  ..., -0.0323, -0.1748, -0.2006],\n",
      "        [ 0.0775, -0.0704, -0.0993,  ...,  0.1734, -0.0113,  0.1077],\n",
      "        [ 0.0393,  0.1579,  0.0223,  ...,  0.1024,  0.2073, -0.0483],\n",
      "        ...,\n",
      "        [-0.0805,  0.0444,  0.0465,  ..., -0.0317,  0.0657,  0.0895],\n",
      "        [ 0.2393, -0.1372, -0.1929,  ...,  0.1316, -0.1240, -0.1941],\n",
      "        [ 0.1133,  0.0473,  0.0309,  ...,  0.0789,  0.0866,  0.0928]],\n",
      "       device='cuda:0', requires_grad=True)\n",
      "Parameter containing:\n",
      "tensor([0., 0., 0., 0., 0., 0., 0., 0., 0., 0., 0., 0., 0., 0., 0., 0., 0., 0., 0., 0., 0., 0., 0., 0.,\n",
      "        0., 0., 0., 0., 0., 0., 0., 0., 0., 0., 0., 0., 0., 0., 0., 0., 0., 0., 0., 0., 0., 0., 0., 0.,\n",
      "        0., 0., 0., 0., 0., 0., 0., 0., 0., 0., 0., 0., 0., 0., 0., 0., 0., 0., 0., 0., 0., 0., 0., 0.,\n",
      "        0., 0., 0., 0., 0., 0., 0., 0.], device='cuda:0', requires_grad=True)\n",
      "Parameter containing:\n",
      "tensor([[ 0.1920,  0.0718,  0.0922,  ..., -0.0319,  0.0725, -0.1047],\n",
      "        [-0.1495,  0.0630,  0.0149,  ...,  0.1124,  0.1402,  0.0644],\n",
      "        [-0.2617,  0.0292, -0.0865,  ..., -0.0761, -0.0742,  0.0831],\n",
      "        ...,\n",
      "        [ 0.0105, -0.1893,  0.0305,  ..., -0.0707,  0.0530,  0.0712],\n",
      "        [-0.0756,  0.1745, -0.0397,  ..., -0.1994,  0.0737,  0.1725],\n",
      "        [-0.2139, -0.1204,  0.0602,  ..., -0.2448,  0.0015, -0.0463]],\n",
      "       device='cuda:0', requires_grad=True)\n",
      "Parameter containing:\n",
      "tensor([0., 0., 0., 0., 0., 0., 0., 0., 0., 0., 0., 0., 0., 0., 0., 0., 0., 0., 0., 0., 0., 0., 0., 0.,\n",
      "        0., 0., 0., 0., 0., 0., 0., 0., 0., 0., 0., 0., 0., 0., 0., 0., 0., 0., 0., 0., 0., 0., 0., 0.,\n",
      "        0., 0., 0., 0., 0., 0., 0., 0., 0., 0., 0., 0., 0., 0., 0., 0., 0., 0., 0., 0., 0., 0., 0., 0.,\n",
      "        0., 0., 0., 0., 0., 0., 0., 0.], device='cuda:0', requires_grad=True)\n",
      "Parameter containing:\n",
      "tensor([[ 0.0236, -0.0909,  0.1698,  ..., -0.0618, -0.0252,  0.1410],\n",
      "        [-0.1844,  0.0055,  0.0053,  ...,  0.1212, -0.1906,  0.1303],\n",
      "        [-0.0339,  0.1006,  0.0945,  ..., -0.2119, -0.0175,  0.0598],\n",
      "        ...,\n",
      "        [ 0.0491,  0.0184,  0.0051,  ...,  0.0888, -0.2097, -0.2174],\n",
      "        [-0.0428,  0.0204,  0.1438,  ..., -0.0930, -0.1127, -0.0414],\n",
      "        [-0.0045,  0.1483,  0.0930,  ..., -0.2005, -0.0528, -0.0802]],\n",
      "       device='cuda:0', requires_grad=True)\n",
      "Parameter containing:\n",
      "tensor([0., 0., 0., 0., 0., 0., 0., 0., 0., 0., 0., 0., 0., 0., 0., 0., 0., 0., 0., 0., 0., 0., 0., 0.,\n",
      "        0., 0., 0., 0., 0., 0., 0., 0., 0., 0., 0., 0., 0., 0., 0., 0., 0., 0., 0., 0., 0., 0., 0., 0.,\n",
      "        0., 0., 0., 0., 0., 0., 0., 0., 0., 0., 0., 0., 0., 0., 0., 0., 0., 0., 0., 0., 0., 0., 0., 0.,\n",
      "        0., 0., 0., 0., 0., 0., 0., 0.], device='cuda:0', requires_grad=True)\n",
      "Parameter containing:\n",
      "tensor([[-0.0896, -0.1000, -0.1360,  ..., -0.1511, -0.0937, -0.0816],\n",
      "        [-0.0064, -0.0484, -0.1844,  ...,  0.0347,  0.0689, -0.1060],\n",
      "        [ 0.2070,  0.0687, -0.0452,  ...,  0.0305,  0.0632,  0.0593],\n",
      "        ...,\n",
      "        [ 0.1559,  0.0004,  0.1633,  ..., -0.1361,  0.0195, -0.0285],\n",
      "        [-0.0517, -0.1631, -0.0131,  ...,  0.1107,  0.0393, -0.1985],\n",
      "        [ 0.0751,  0.0746,  0.0314,  ..., -0.0875, -0.0764, -0.0294]],\n",
      "       device='cuda:0', requires_grad=True)\n",
      "Parameter containing:\n",
      "tensor([0., 0., 0., 0., 0., 0., 0., 0., 0., 0., 0., 0., 0., 0., 0., 0., 0., 0., 0., 0., 0., 0., 0., 0.,\n",
      "        0., 0., 0., 0., 0., 0., 0., 0., 0., 0., 0., 0., 0., 0., 0., 0., 0., 0., 0., 0., 0., 0., 0., 0.,\n",
      "        0., 0., 0., 0., 0., 0., 0., 0., 0., 0., 0., 0., 0., 0., 0., 0., 0., 0., 0., 0., 0., 0., 0., 0.,\n",
      "        0., 0., 0., 0., 0., 0., 0., 0.], device='cuda:0', requires_grad=True)\n",
      "Parameter containing:\n",
      "tensor([[ 0.0548, -0.0065,  0.0296,  ...,  0.1606,  0.1154, -0.1208],\n",
      "        [ 0.0325, -0.0232,  0.1818,  ..., -0.2579, -0.1099, -0.1066],\n",
      "        [-0.1380, -0.0026, -0.1137,  ...,  0.0391,  0.0320, -0.0422],\n",
      "        ...,\n",
      "        [-0.0955, -0.1194,  0.0159,  ..., -0.0355,  0.0683,  0.1799],\n",
      "        [-0.1725, -0.0628,  0.0624,  ..., -0.0568,  0.0661, -0.0685],\n",
      "        [-0.0863, -0.1301,  0.0559,  ..., -0.0897,  0.1141,  0.1667]],\n",
      "       device='cuda:0', requires_grad=True)\n",
      "Parameter containing:\n",
      "tensor([0., 0., 0., 0., 0., 0., 0., 0., 0., 0., 0., 0., 0., 0., 0., 0., 0., 0., 0., 0., 0., 0., 0., 0.,\n",
      "        0., 0., 0., 0., 0., 0., 0., 0., 0., 0., 0., 0., 0., 0., 0., 0., 0., 0., 0., 0., 0., 0., 0., 0.,\n",
      "        0., 0., 0., 0., 0., 0., 0., 0., 0., 0., 0., 0., 0., 0., 0., 0., 0., 0., 0., 0., 0., 0., 0., 0.,\n",
      "        0., 0., 0., 0., 0., 0., 0., 0.], device='cuda:0', requires_grad=True)\n",
      "Parameter containing:\n",
      "tensor([[ 0.3008, -0.0432, -0.3639, -0.1733,  0.0443, -0.0912,  0.0807,  0.2274,\n",
      "          0.0219, -0.1430, -0.0218,  0.0107, -0.0130,  0.0813, -0.2099, -0.0902,\n",
      "          0.1302, -0.0433, -0.0109,  0.1038, -0.1675,  0.0033, -0.0169, -0.1448,\n",
      "         -0.0230,  0.1321, -0.3866,  0.0154, -0.3867,  0.0296,  0.0095, -0.1164,\n",
      "         -0.1412, -0.0326,  0.1081,  0.0241, -0.0137,  0.0964, -0.2484, -0.0763,\n",
      "          0.0569,  0.0292, -0.1447, -0.2135,  0.1786,  0.1379,  0.1362,  0.0643,\n",
      "          0.0332,  0.1356,  0.1407,  0.1697, -0.0237,  0.0489, -0.0016,  0.2113,\n",
      "         -0.0609, -0.0007,  0.2013, -0.0431,  0.2241, -0.2727,  0.0951, -0.0696,\n",
      "          0.1930, -0.0979, -0.2315, -0.0468, -0.3019,  0.1039,  0.0943,  0.0078,\n",
      "         -0.0091, -0.0039, -0.1608, -0.0999, -0.1114, -0.0917,  0.0615,  0.0853],\n",
      "        [ 0.0066, -0.1946,  0.1665,  0.0217, -0.0625, -0.1263, -0.0919,  0.0791,\n",
      "         -0.1096,  0.2265,  0.1759,  0.1132,  0.2709,  0.0526, -0.1307,  0.1828,\n",
      "          0.2060,  0.0207, -0.0844, -0.1405, -0.0752, -0.0739,  0.1828,  0.0475,\n",
      "          0.0873, -0.2403, -0.0441,  0.0263, -0.2681, -0.1011, -0.1795, -0.1239,\n",
      "         -0.1134,  0.0726, -0.1403,  0.2136, -0.4654,  0.1804, -0.0285,  0.2693,\n",
      "         -0.0406,  0.0352, -0.0943, -0.1312,  0.1261, -0.1292,  0.1678,  0.0144,\n",
      "          0.1163,  0.0149,  0.0587, -0.1248,  0.0992,  0.0489,  0.3656, -0.3336,\n",
      "          0.0167,  0.1550,  0.0181, -0.0404,  0.1011, -0.0334, -0.0846,  0.0688,\n",
      "          0.0094, -0.2924,  0.1652, -0.1140,  0.1484,  0.2066,  0.0138, -0.0937,\n",
      "          0.2050, -0.1612,  0.1047, -0.1655,  0.0726,  0.2016,  0.1118,  0.3592],\n",
      "        [-0.0232, -0.0603,  0.0688,  0.2827,  0.1975,  0.0829, -0.0069, -0.1415,\n",
      "         -0.0148, -0.1136, -0.0411, -0.3932, -0.0740,  0.1629, -0.1303, -0.0389,\n",
      "          0.0132,  0.1393,  0.1009,  0.5091,  0.1269, -0.0410,  0.1552,  0.0806,\n",
      "          0.0425,  0.0414,  0.0709, -0.1928,  0.1789,  0.1599, -0.0262,  0.2083,\n",
      "         -0.2521,  0.0482,  0.3700,  0.0576, -0.3540, -0.0255,  0.2943, -0.1971,\n",
      "          0.0354,  0.0779, -0.0072, -0.1477,  0.2324,  0.1182, -0.1255,  0.0281,\n",
      "          0.1674,  0.2190,  0.1961,  0.0822, -0.2418, -0.0382, -0.0149, -0.3633,\n",
      "         -0.0925, -0.0054, -0.2965, -0.0792, -0.1352,  0.1828, -0.0031, -0.1254,\n",
      "          0.0028, -0.0710,  0.0626, -0.1273, -0.1914, -0.1123,  0.0042,  0.1631,\n",
      "          0.1362,  0.0704, -0.1913,  0.2387, -0.1914, -0.0403, -0.0101, -0.1148]],\n",
      "       device='cuda:0', requires_grad=True)\n",
      "Parameter containing:\n",
      "tensor([0., 0., 0.], device='cuda:0', requires_grad=True)\n"
     ]
    }
   ],
   "source": [
    "for i in pinn.parameters():\n",
    "    print(i)"
   ]
  },
  {
   "cell_type": "code",
   "execution_count": 14,
   "metadata": {},
   "outputs": [
    {
     "name": "stdout",
     "output_type": "stream",
     "text": [
      "Epoch:  0 loss:  0.5478804111480713\n",
      "Epoch:  1 loss:  0.49986207485198975\n",
      "Epoch:  2 loss:  0.465189129114151\n",
      "Epoch:  3 loss:  0.43801355361938477\n",
      "Epoch:  4 loss:  0.41491857171058655\n",
      "Epoch:  5 loss:  0.395143061876297\n",
      "Epoch:  6 loss:  0.3786502182483673\n",
      "Epoch:  7 loss:  0.36493000388145447\n",
      "Epoch:  8 loss:  0.35299962759017944\n",
      "Epoch:  9 loss:  0.34212619066238403\n",
      "Epoch:  10 loss:  0.3322994112968445\n",
      "Epoch:  11 loss:  0.3238186240196228\n",
      "Epoch:  12 loss:  0.3165610730648041\n",
      "Epoch:  13 loss:  0.310062974691391\n",
      "Epoch:  14 loss:  0.30409321188926697\n",
      "Epoch:  15 loss:  0.29850146174430847\n",
      "Epoch:  16 loss:  0.2930452823638916\n"
     ]
    },
    {
     "ename": "KeyboardInterrupt",
     "evalue": "",
     "output_type": "error",
     "traceback": [
      "\u001b[0;31m---------------------------------------------------------------------------\u001b[0m",
      "\u001b[0;31mKeyboardInterrupt\u001b[0m                         Traceback (most recent call last)",
      "Cell \u001b[0;32mIn[14], line 3\u001b[0m\n\u001b[1;32m      1\u001b[0m opt\u001b[38;5;241m=\u001b[39mtorch\u001b[38;5;241m.\u001b[39moptim\u001b[38;5;241m.\u001b[39mAdam(pinn\u001b[38;5;241m.\u001b[39mparameters(),lr\u001b[38;5;241m=\u001b[39m\u001b[38;5;241m1e-3\u001b[39m)\n\u001b[1;32m      2\u001b[0m \u001b[38;5;28;01mfor\u001b[39;00m epoch \u001b[38;5;129;01min\u001b[39;00m \u001b[38;5;28mrange\u001b[39m(\u001b[38;5;241m700\u001b[39m):\n\u001b[0;32m----> 3\u001b[0m     loss\u001b[38;5;241m=\u001b[39m\u001b[43mpinn\u001b[49m\u001b[38;5;241;43m.\u001b[39;49m\u001b[43mloss\u001b[49m\u001b[43m(\u001b[49m\u001b[43mtrain_init_pos_main\u001b[49m\u001b[43m,\u001b[49m\u001b[43mtrain_disp_main\u001b[49m\u001b[43m,\u001b[49m\u001b[43mreturn_colloc_points\u001b[49m\u001b[43m,\u001b[49m\u001b[43mposition_selected_stresses\u001b[49m\u001b[43m,\u001b[49m\u001b[43mreturn_stress\u001b[49m\u001b[43m)\u001b[49m\n\u001b[1;32m      4\u001b[0m     \u001b[38;5;28mprint\u001b[39m(\u001b[38;5;124m\"\u001b[39m\u001b[38;5;124mEpoch: \u001b[39m\u001b[38;5;124m\"\u001b[39m, epoch, \u001b[38;5;124m\"\u001b[39m\u001b[38;5;124mloss: \u001b[39m\u001b[38;5;124m\"\u001b[39m, loss\u001b[38;5;241m.\u001b[39mitem())\n\u001b[1;32m      5\u001b[0m     loss\u001b[38;5;241m.\u001b[39mbackward()\n",
      "File \u001b[0;32m~/Documents/programacion_stuff/DeepElasticity/src/models.py:278\u001b[0m, in \u001b[0;36mPINN.loss\u001b[0;34m(self, pos_data, desp_data, pos_colloc, pos_BC, sigmas_BC, save)\u001b[0m\n\u001b[1;32m    275\u001b[0m \u001b[38;5;28;01mif\u001b[39;00m \u001b[38;5;28mself\u001b[39m\u001b[38;5;241m.\u001b[39muse_of_alpha:\n\u001b[1;32m    276\u001b[0m     \u001b[38;5;28mself\u001b[39m\u001b[38;5;241m.\u001b[39mE\u001b[38;5;241m=\u001b[39m(\u001b[38;5;241m1\u001b[39m\u001b[38;5;241m+\u001b[39m\u001b[38;5;28mself\u001b[39m\u001b[38;5;241m.\u001b[39malpha)\u001b[38;5;241m*\u001b[39m\u001b[38;5;28mself\u001b[39m\u001b[38;5;241m.\u001b[39mE_ref\n\u001b[0;32m--> 278\u001b[0m value_loss_PCE\u001b[38;5;241m=\u001b[39m\u001b[38;5;28;43mself\u001b[39;49m\u001b[38;5;241;43m.\u001b[39;49m\u001b[43mloss_PDE\u001b[49m\u001b[43m(\u001b[49m\u001b[43mpos_colloc\u001b[49m\u001b[43m,\u001b[49m\u001b[43msave\u001b[49m\u001b[38;5;241;43m=\u001b[39;49m\u001b[43msave\u001b[49m\u001b[43m)\u001b[49m\n\u001b[1;32m    279\u001b[0m value_loss_BC\u001b[38;5;241m=\u001b[39m\u001b[38;5;28mself\u001b[39m\u001b[38;5;241m.\u001b[39mloss_BC(pos_BC,sigmas_BC,save\u001b[38;5;241m=\u001b[39msave)\n\u001b[1;32m    280\u001b[0m value_loss_data\u001b[38;5;241m=\u001b[39m\u001b[38;5;28mself\u001b[39m\u001b[38;5;241m.\u001b[39mloss_data(pos_data,desp_data,save\u001b[38;5;241m=\u001b[39msave)  \n",
      "File \u001b[0;32m~/Documents/programacion_stuff/DeepElasticity/src/models.py:215\u001b[0m, in \u001b[0;36mPINN.loss_PDE\u001b[0;34m(self, collocation_points, save)\u001b[0m\n\u001b[1;32m    212\u001b[0m sigma \u001b[38;5;241m=\u001b[39m \u001b[38;5;28mself\u001b[39m\u001b[38;5;241m.\u001b[39mcompute_stress(epsilon)\n\u001b[1;32m    213\u001b[0m div_sigma \u001b[38;5;241m=\u001b[39m \u001b[38;5;28mself\u001b[39m\u001b[38;5;241m.\u001b[39mdivergence(sigma,X, Y, Z)\n\u001b[0;32m--> 215\u001b[0m value_loss_PDE\u001b[38;5;241m=\u001b[39m\u001b[38;5;28;43mself\u001b[39;49m\u001b[38;5;241;43m.\u001b[39;49m\u001b[43mloss_function\u001b[49m(div_sigma,torch\u001b[38;5;241m.\u001b[39mzeros_like(div_sigma)\u001b[38;5;241m.\u001b[39mto(\u001b[38;5;28mself\u001b[39m\u001b[38;5;241m.\u001b[39mdevice))\n\u001b[1;32m    217\u001b[0m \u001b[38;5;28;01mif\u001b[39;00m save:\n\u001b[1;32m    218\u001b[0m     \u001b[38;5;28mself\u001b[39m\u001b[38;5;241m.\u001b[39mloss_history[\u001b[38;5;124m\"\u001b[39m\u001b[38;5;124mPDE\u001b[39m\u001b[38;5;124m\"\u001b[39m]\u001b[38;5;241m.\u001b[39mappend(value_loss_PDE\u001b[38;5;241m.\u001b[39mitem())\u001b[38;5;66;03m#.to('cpu').detach().numpy())\u001b[39;00m\n",
      "File \u001b[0;32m~/miniconda3/envs/pinns/lib/python3.11/site-packages/torch/nn/modules/module.py:1601\u001b[0m, in \u001b[0;36mModule.__getattr__\u001b[0;34m(self, name)\u001b[0m\n\u001b[1;32m   1598\u001b[0m     \u001b[38;5;28;01mif\u001b[39;00m \u001b[38;5;124m'\u001b[39m\u001b[38;5;124m_backward_pre_hooks\u001b[39m\u001b[38;5;124m'\u001b[39m \u001b[38;5;129;01mnot\u001b[39;00m \u001b[38;5;129;01min\u001b[39;00m \u001b[38;5;28mself\u001b[39m\u001b[38;5;241m.\u001b[39m\u001b[38;5;18m__dict__\u001b[39m:\n\u001b[1;32m   1599\u001b[0m         \u001b[38;5;28mself\u001b[39m\u001b[38;5;241m.\u001b[39m_backward_pre_hooks \u001b[38;5;241m=\u001b[39m OrderedDict()\n\u001b[0;32m-> 1601\u001b[0m \u001b[38;5;28;01mdef\u001b[39;00m \u001b[38;5;21m__getattr__\u001b[39m(\u001b[38;5;28mself\u001b[39m, name: \u001b[38;5;28mstr\u001b[39m) \u001b[38;5;241m-\u001b[39m\u001b[38;5;241m>\u001b[39m Union[Tensor, \u001b[38;5;124m'\u001b[39m\u001b[38;5;124mModule\u001b[39m\u001b[38;5;124m'\u001b[39m]:\n\u001b[1;32m   1602\u001b[0m     \u001b[38;5;28;01mif\u001b[39;00m \u001b[38;5;124m'\u001b[39m\u001b[38;5;124m_parameters\u001b[39m\u001b[38;5;124m'\u001b[39m \u001b[38;5;129;01min\u001b[39;00m \u001b[38;5;28mself\u001b[39m\u001b[38;5;241m.\u001b[39m\u001b[38;5;18m__dict__\u001b[39m:\n\u001b[1;32m   1603\u001b[0m         _parameters \u001b[38;5;241m=\u001b[39m \u001b[38;5;28mself\u001b[39m\u001b[38;5;241m.\u001b[39m\u001b[38;5;18m__dict__\u001b[39m[\u001b[38;5;124m'\u001b[39m\u001b[38;5;124m_parameters\u001b[39m\u001b[38;5;124m'\u001b[39m]\n",
      "\u001b[0;31mKeyboardInterrupt\u001b[0m: "
     ]
    }
   ],
   "source": [
    "opt=torch.optim.Adam(pinn.parameters(),lr=1e-3)\n",
    "for epoch in range(700):\n",
    "    loss=pinn.loss(train_init_pos_main,train_disp_main,return_colloc_points,position_selected_stresses,return_stress)\n",
    "    print(\"Epoch: \", epoch, \"loss: \", loss.item())\n",
    "    loss.backward()\n",
    "    opt.step()\n",
    "    opt.zero_grad()"
   ]
  },
  {
   "cell_type": "code",
   "execution_count": 9,
   "metadata": {},
   "outputs": [],
   "source": [
    "step_dict = {\n",
    "    \"step_1\": {\"optim\": torch.optim.Adam(pinn.parameters(), lr=1e-3), \n",
    "               \"epochs\": 40}\n",
    "    }"
   ]
  },
  {
   "cell_type": "code",
   "execution_count": 10,
   "metadata": {},
   "outputs": [],
   "source": [
    "trainer=Trainer(step_dict)"
   ]
  },
  {
   "cell_type": "code",
   "execution_count": 11,
   "metadata": {},
   "outputs": [
    {
     "name": "stdout",
     "output_type": "stream",
     "text": [
      "Epoch:  0 loss:  2.01875376701355\n",
      "Epoch:  1 loss:  1.855525016784668\n",
      "Epoch:  2 loss:  1.7319238185882568\n",
      "Epoch:  3 loss:  1.6382428407669067\n",
      "Epoch:  4 loss:  1.5653947591781616\n",
      "Epoch:  5 loss:  1.5069998502731323\n",
      "Epoch:  6 loss:  1.4582699537277222\n",
      "Epoch:  7 loss:  1.4157618284225464\n",
      "Epoch:  8 loss:  1.3776277303695679\n",
      "Epoch:  9 loss:  1.34310781955719\n",
      "Epoch:  10 loss:  1.3118418455123901\n",
      "Epoch:  11 loss:  1.2838877439498901\n",
      "Epoch:  12 loss:  1.2595950365066528\n",
      "Epoch:  13 loss:  1.2385451793670654\n",
      "Epoch:  14 loss:  1.219718337059021\n",
      "Epoch:  15 loss:  1.2025302648544312\n",
      "Epoch:  16 loss:  1.1865074634552002\n",
      "Epoch:  17 loss:  1.1709166765213013\n",
      "Epoch:  18 loss:  1.155522346496582\n",
      "Epoch:  19 loss:  1.140852928161621\n",
      "Epoch:  20 loss:  1.1272943019866943\n",
      "Epoch:  21 loss:  1.114641785621643\n",
      "Epoch:  22 loss:  1.1026397943496704\n",
      "Epoch:  23 loss:  1.0913671255111694\n",
      "Epoch:  24 loss:  1.0811009407043457\n",
      "Epoch:  25 loss:  1.0720559358596802\n",
      "Epoch:  26 loss:  1.0638900995254517\n",
      "Epoch:  27 loss:  1.055539846420288\n",
      "Epoch:  28 loss:  1.0462613105773926\n",
      "Epoch:  29 loss:  1.0364059209823608\n",
      "Epoch:  30 loss:  1.0267084836959839\n",
      "Epoch:  31 loss:  1.017539620399475\n",
      "Epoch:  32 loss:  1.009080410003662\n",
      "Epoch:  33 loss:  1.0014890432357788\n",
      "Epoch:  34 loss:  0.9946083426475525\n",
      "Epoch:  35 loss:  0.9877790808677673\n",
      "Epoch:  36 loss:  0.9803258180618286\n",
      "Epoch:  37 loss:  0.9723268151283264\n",
      "Epoch:  38 loss:  0.9645696878433228\n",
      "Epoch:  39 loss:  0.9577054381370544\n"
     ]
    }
   ],
   "source": [
    "trainer.train(pinn,data)"
   ]
  },
  {
   "cell_type": "code",
   "execution_count": 12,
   "metadata": {},
   "outputs": [
    {
     "data": {
      "text/plain": [
       "[<matplotlib.lines.Line2D at 0x7fb2547538d0>]"
      ]
     },
     "execution_count": 12,
     "metadata": {},
     "output_type": "execute_result"
    },
    {
     "data": {
      "image/png": "[encoded data removed]",
      "text/plain": [
       "<Figure size 640x480 with 1 Axes>"
      ]
     },
     "metadata": {},
     "output_type": "display_data"
    }
   ],
   "source": [
    "plt.plot(pinn.params_history[\"w_PDE\"])\n",
    "plt.plot(pinn.params_history[\"w_data\"])\n",
    "#plt.plot(pinn.params_history[\"w_BC\"])"
   ]
  },
  {
   "cell_type": "code",
   "execution_count": 17,
   "metadata": {},
   "outputs": [
    {
     "data": {
      "text/plain": [
       "dict_keys(['E', 'alpha', 'w_data', 'w_PDE', 'w_BC'])"
      ]
     },
     "execution_count": 17,
     "metadata": {},
     "output_type": "execute_result"
    }
   ],
   "source": [
    "pinn.params_history.keys()"
   ]
  },
  {
   "cell_type": "code",
   "execution_count": null,
   "metadata": {},
   "outputs": [],
   "source": []
  }
 ],
 "metadata": {
  "kernelspec": {
   "display_name": "pinns",
   "language": "python",
   "name": "python3"
  },
  "language_info": {
   "codemirror_mode": {
    "name": "ipython",
    "version": 3
   },
   "file_extension": ".py",
   "mimetype": "text/x-python",
   "name": "python",
   "nbconvert_exporter": "python",
   "pygments_lexer": "ipython3",
   "version": "3.11.5"
  }
 },
 "nbformat": 4,
 "nbformat_minor": 2
}
