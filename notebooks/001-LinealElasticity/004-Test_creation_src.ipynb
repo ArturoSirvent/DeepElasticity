{
 "cells": [
  {
   "cell_type": "markdown",
   "metadata": {},
   "source": [
    "**Aquí voy a probar todas las funcionalidades necesarias para hacer la librería de funciones que voy a ir reutilizando.  \n",
    "Va a tener las siguientes partes:**  \n",
    "1. Utils:   \n",
    "    1. **Datos**: Funcionalidad de carga de datos, además de seleciones que no modifique los datos.\n",
    "    2. **Preprocess**: Cosas como normalizacion, o algunas formas de reordenar u obtener transformaciones de los datos.  \n",
    "    3. **PostProcess**: Para la parte de manejar los resultados.   \n",
    "    4. **Vizutils**: Es una forma de crear representaciones sobre los datos finales o los inciales.   \n",
    "\n",
    "2. **Models**:  Toda la parte de modelos, tanto para DNN, como las variantes de PINNs y GNN...  Añadir la opcion de selfadaptative weight en la loss.\n",
    "3. **Train**: Utilidades que hacen el entrenamiento y tal. No creo que haya mucha complegidad aquí."
   ]
  },
  {
   "cell_type": "code",
   "execution_count": null,
   "metadata": {},
   "outputs": [],
   "source": []
  }
 ],
 "metadata": {
  "language_info": {
   "name": "python"
  }
 },
 "nbformat": 4,
 "nbformat_minor": 2
}
