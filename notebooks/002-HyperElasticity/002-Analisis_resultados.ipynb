{
 "cells": [
  {
   "cell_type": "code",
   "execution_count": 1,
   "metadata": {},
   "outputs": [],
   "source": [
    "import os \n",
    "BASE_DIR=os.path.abspath(\"../../\")\n",
    "import sys \n",
    "sys.path.append(BASE_DIR)\n",
    "DATA_DIR=\"/home/arturosf/Documentos/repos/DeepElasticity/data/002-Neo\"\n",
    "from src.utils.data import DataNeo_2\n",
    "from src.models import PINN  \n",
    "from src.train import Trainer_2\n",
    "import torch \n",
    "import matplotlib.pyplot as plt \n",
    "import time\n",
    "from datetime import datetime\n",
    "import pickle\n",
    "import numpy as np  \n",
    "from src.models import PINN_NeoHook\n"
   ]
  },
  {
   "cell_type": "code",
   "execution_count": 9,
   "metadata": {},
   "outputs": [
    {
     "name": "stdout",
     "output_type": "stream",
     "text": [
      "['pinn_object_E10kPa_lame1_0.01_step_0.pkl', 'pinn_object_E10kPa_lame1_0.01_step_1.pkl', 'pinn_object_E10kPa_lame1_0.1_step_0.pkl', 'pinn_object_E10kPa_lame1_0.1_step_1.pkl', 'pinn_object_E10kPa_lame1_10_step_0.pkl', 'pinn_object_E10kPa_lame1_10_step_1.pkl', 'pinn_object_E10kPa_lame1_1_step_0.pkl', 'pinn_object_E10kPa_lame1_1_step_1.pkl', 'pinn_object_E10kPa_lame2_0.001_step_0.pkl', 'pinn_object_E10kPa_lame2_0.001_step_1.pkl', 'pinn_object_E10kPa_lame2_0.01_step_0.pkl', 'pinn_object_E10kPa_lame2_0.01_step_1.pkl', 'pinn_object_E10kPa_lame2_0.1_step_0.pkl', 'pinn_object_E10kPa_lame2_0.1_step_1.pkl', 'pinn_object_E15kPa_lame1_0.01_step_0.pkl', 'pinn_object_E15kPa_lame1_0.01_step_1.pkl', 'pinn_object_E15kPa_lame1_0.1_step_0.pkl', 'pinn_object_E15kPa_lame1_0.1_step_1.pkl', 'pinn_object_E15kPa_lame1_10_step_0.pkl', 'pinn_object_E15kPa_lame1_10_step_1.pkl', 'pinn_object_E15kPa_lame1_1_step_0.pkl', 'pinn_object_E15kPa_lame1_1_step_1.pkl', 'pinn_object_E15kPa_lame2_0.001_step_0.pkl', 'pinn_object_E15kPa_lame2_0.001_step_1.pkl', 'pinn_object_E15kPa_lame2_0.01_step_0.pkl', 'pinn_object_E15kPa_lame2_0.01_step_1.pkl', 'pinn_object_E15kPa_lame2_0.1_step_0.pkl', 'pinn_object_E15kPa_lame2_0.1_step_1.pkl', 'pinn_object_E20kPa_lame1_0.01_step_0.pkl', 'pinn_object_E20kPa_lame1_0.01_step_1.pkl', 'pinn_object_E20kPa_lame1_0.1_step_0.pkl', 'pinn_object_E20kPa_lame1_0.1_step_1.pkl', 'pinn_object_E20kPa_lame1_10_step_0.pkl', 'pinn_object_E20kPa_lame1_10_step_1.pkl', 'pinn_object_E20kPa_lame1_1_step_0.pkl', 'pinn_object_E20kPa_lame1_1_step_1.pkl', 'pinn_object_E20kPa_lame2_0.001_step_0.pkl', 'pinn_object_E20kPa_lame2_0.001_step_1.pkl', 'pinn_object_E20kPa_lame2_0.01_step_0.pkl', 'pinn_object_E20kPa_lame2_0.01_step_1.pkl', 'pinn_object_E20kPa_lame2_0.1_step_0.pkl', 'pinn_object_E20kPa_lame2_0.1_step_1.pkl', 'pinn_object_E25kPa_lame1_10_step_0.pkl', 'pinn_object_E25kPa_lame1_10_step_1.pkl']\n"
     ]
    },
    {
     "ename": "KeyError",
     "evalue": "'params_history'",
     "output_type": "error",
     "traceback": [
      "\u001b[0;31m---------------------------------------------------------------------------\u001b[0m",
      "\u001b[0;31mKeyError\u001b[0m                                  Traceback (most recent call last)",
      "Cell \u001b[0;32mIn[9], line 24\u001b[0m\n\u001b[1;32m     22\u001b[0m     \u001b[38;5;28;01mwith\u001b[39;00m \u001b[38;5;28mopen\u001b[39m(\u001b[38;5;124m\"\u001b[39m\u001b[38;5;124m./results/pickles/\u001b[39m\u001b[38;5;124m\"\u001b[39m\u001b[38;5;241m+\u001b[39mfile,\u001b[38;5;124m\"\u001b[39m\u001b[38;5;124mrb\u001b[39m\u001b[38;5;124m\"\u001b[39m) \u001b[38;5;28;01mas\u001b[39;00m f:\n\u001b[1;32m     23\u001b[0m         pinn\u001b[38;5;241m=\u001b[39mpickle\u001b[38;5;241m.\u001b[39mload(f)\n\u001b[0;32m---> 24\u001b[0m     lame1_values\u001b[38;5;241m.\u001b[39mappend(\u001b[43mpinn\u001b[49m\u001b[43m[\u001b[49m\u001b[38;5;124;43m\"\u001b[39;49m\u001b[38;5;124;43mparams_history\u001b[39;49m\u001b[38;5;124;43m\"\u001b[39;49m\u001b[43m]\u001b[49m[\u001b[38;5;124m\"\u001b[39m\u001b[38;5;124mlame1\u001b[39m\u001b[38;5;124m\"\u001b[39m][\u001b[38;5;241m-\u001b[39m\u001b[38;5;241m1\u001b[39m])\n\u001b[1;32m     25\u001b[0m \u001b[38;5;28;01mfor\u001b[39;00m file \u001b[38;5;129;01min\u001b[39;00m lame2_files:\n\u001b[1;32m     26\u001b[0m     \u001b[38;5;28;01mwith\u001b[39;00m \u001b[38;5;28mopen\u001b[39m(\u001b[38;5;124m\"\u001b[39m\u001b[38;5;124m./results/pickles/\u001b[39m\u001b[38;5;124m\"\u001b[39m\u001b[38;5;241m+\u001b[39mfile,\u001b[38;5;124m\"\u001b[39m\u001b[38;5;124mrb\u001b[39m\u001b[38;5;124m\"\u001b[39m) \u001b[38;5;28;01mas\u001b[39;00m f:\n",
      "\u001b[0;31mKeyError\u001b[0m: 'params_history'"
     ]
    }
   ],
   "source": [
    "#en la carpeta results/pickle tenemos puchos pickles que representan el objeto pinn que tiene un campo que es params_history que tiene a su vez el nombre\n",
    "#del parametro que intenta estimar, lame 1 o lame 2. Los nombre son así pinn_object_E10kPa_lame1_0.1_step_0.pkl,\n",
    "#voy a separar entre los lame 1 y lame2 y para cada pickle, voy a quedarme solo con la mediana de los ultimos 5 valores.\n",
    "#voy a hacer un histograma de los valores de lame 1 y lame 2.\n",
    "\n",
    "list_pickles_files=os.listdir(\"./results/pickles\")\n",
    "list_pickles_files.sort()\n",
    "print(list_pickles_files)\n",
    "#separamos en los que son de lame 1 y lame 2\n",
    "lame1_files=[]\n",
    "lame2_files=[]\n",
    "for file in list_pickles_files:\n",
    "    if \"lame1\" in file:\n",
    "        lame1_files.append(file)\n",
    "    else:\n",
    "        lame2_files.append(file)\n",
    "\n",
    "#sacamos el ultimo valor \n",
    "lame1_values=[]\n",
    "lame2_values=[]\n",
    "for file in lame1_files:\n",
    "    with open(\"./results/pickles/\"+file,\"rb\") as f:\n",
    "        pinn=pickle.load(f)\n",
    "        \n",
    "    lame1_values.append(pinn[\"params_history\"][\"lame1\"][-1])\n",
    "for file in lame2_files:\n",
    "    with open(\"./results/pickles/\"+file,\"rb\") as f:\n",
    "        pinn=pickle.load(f)\n",
    "    lame2_values.append(pinn[\"params_history\"][\"lame2\"][-1])"
   ]
  },
  {
   "cell_type": "code",
   "execution_count": 11,
   "metadata": {},
   "outputs": [
    {
     "data": {
      "text/plain": [
       "dict_keys(['Data', 'PDE', 'symmetry', 'BC', 'Total'])"
      ]
     },
     "execution_count": 11,
     "metadata": {},
     "output_type": "execute_result"
    }
   ],
   "source": []
  },
  {
   "cell_type": "code",
   "execution_count": null,
   "metadata": {},
   "outputs": [],
   "source": []
  }
 ],
 "metadata": {
  "kernelspec": {
   "display_name": "Python 3",
   "language": "python",
   "name": "python3"
  },
  "language_info": {
   "codemirror_mode": {
    "name": "ipython",
    "version": 3
   },
   "file_extension": ".py",
   "mimetype": "text/x-python",
   "name": "python",
   "nbconvert_exporter": "python",
   "pygments_lexer": "ipython3",
   "version": "3.1.undefined"
  }
 },
 "nbformat": 4,
 "nbformat_minor": 2
}
