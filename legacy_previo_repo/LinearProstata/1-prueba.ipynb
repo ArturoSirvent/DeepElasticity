{
 "cells": [
  {
   "attachments": {},
   "cell_type": "markdown",
   "metadata": {},
   "source": [
    "1 junio 2023    \n",
    "@author: Arturo Sirvent  "
   ]
  },
  {
   "attachments": {},
   "cell_type": "markdown",
   "metadata": {},
   "source": [
    "Primera implementación/adaptación de lo que tenemos a la deformación lineal de la próstata.  \n",
    "Las **características de la deformación** son las siguientes:   \n",
    "\n",
    "\n",
    "-\n"
   ]
  },
  {
   "attachments": {},
   "cell_type": "markdown",
   "metadata": {},
   "source": [
    "La **teoría** de este caso es la siguiente:  \n",
    "  "
   ]
  },
  {
   "cell_type": "code",
   "execution_count": null,
   "metadata": {},
   "outputs": [],
   "source": []
  },
  {
   "cell_type": "code",
   "execution_count": null,
   "metadata": {},
   "outputs": [],
   "source": []
  },
  {
   "cell_type": "code",
   "execution_count": 2,
   "metadata": {},
   "outputs": [],
   "source": [
    "import torch \n",
    "import  torch.nn as nn\n",
    "from torch.autograd import grad, backward \n",
    "import matplotlib.pyplot as plt \n",
    "import os \n",
    "import numpy as np \n",
    "import plotly.express as px"
   ]
  },
  {
   "attachments": {},
   "cell_type": "markdown",
   "metadata": {},
   "source": [
    "# Crear la red y la PINN  \n",
    "\n",
    "La loss física serán las ecuaciones diferenciales del equilibrio  "
   ]
  },
  {
   "cell_type": "code",
   "execution_count": 20,
   "metadata": {},
   "outputs": [],
   "source": [
    "class NN(nn. Module):\n",
    "    def __init__(self,layers):\n",
    "        super().__init__()\n",
    "        self.activation=nn.Tanh()\n",
    "        self.loss=nn.MSELoss()\n",
    "\n",
    "        self.layers=layers\n",
    "        \n",
    "        self.linears=nn.ModuleList([ nn.Linear(layers[i],layers[i+1]) for i in range(len(layers)-1)])\n",
    "        \n",
    "\n",
    "\n",
    "    def forward(self,input):\n",
    "        #primero normalizamos el input de la misma forma que lo hemos hecho con todos   \n",
    "        x=input\n",
    "\n",
    "        #luego aplicamos todo el lio este\n",
    "        for m in self.linears[:-1]:\n",
    "            a=m(x)\n",
    "            x=self.activation(a)\n",
    "\n",
    "        #por último la ultima capa\n",
    "        out=self.linears[-1](x)\n",
    "\n",
    "        return out  \n",
    "         \n"
   ]
  },
  {
   "cell_type": "code",
   "execution_count": 21,
   "metadata": {},
   "outputs": [],
   "source": [
    "model=NN([2,10,10,10,2])"
   ]
  },
  {
   "cell_type": "code",
   "execution_count": 22,
   "metadata": {},
   "outputs": [],
   "source": [
    "x=torch.randn(10000,2)"
   ]
  },
  {
   "cell_type": "code",
   "execution_count": 23,
   "metadata": {},
   "outputs": [
    {
     "data": {
      "text/plain": [
       "torch.Size([10000, 2])"
      ]
     },
     "execution_count": 23,
     "metadata": {},
     "output_type": "execute_result"
    }
   ],
   "source": [
    "model(x).shape"
   ]
  },
  {
   "cell_type": "code",
   "execution_count": null,
   "metadata": {},
   "outputs": [],
   "source": [
    "class PINN(NN): \n",
    "    #esto hereda de NN porque es lo mismo pero incluimos la loss física  \n",
    "    def __init__(self):\n",
    "        super().__init__()\n",
    "\n",
    "    #forward por ejemplo no tenemos porque sustituirla  \n",
    "\n",
    "    def loss_fisica(self):\n",
    "\n",
    "        \n",
    "    def loss_bc(self):\n",
    "\n",
    "    def loss_data(self):\n",
    "\n",
    "    "
   ]
  },
  {
   "cell_type": "code",
   "execution_count": null,
   "metadata": {},
   "outputs": [],
   "source": []
  }
 ],
 "metadata": {
  "kernelspec": {
   "display_name": "main_torch",
   "language": "python",
   "name": "python3"
  },
  "language_info": {
   "codemirror_mode": {
    "name": "ipython",
    "version": 3
   },
   "file_extension": ".py",
   "mimetype": "text/x-python",
   "name": "python",
   "nbconvert_exporter": "python",
   "pygments_lexer": "ipython3",
   "version": "3.11.3"
  },
  "orig_nbformat": 4
 },
 "nbformat": 4,
 "nbformat_minor": 2
}
